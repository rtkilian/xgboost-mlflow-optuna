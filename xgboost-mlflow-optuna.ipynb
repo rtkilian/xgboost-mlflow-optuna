{
 "cells": [
  {
   "cell_type": "markdown",
   "id": "6c940b73-6941-47c4-9dd3-688154ce324e",
   "metadata": {},
   "source": [
    "# Creating and tracking XGBoost hyperparameter experiments with MLflow and Optuna"
   ]
  },
  {
   "cell_type": "markdown",
   "id": "004818c2-4c18-40c3-ab87-2fb4a406c48f",
   "metadata": {},
   "source": [
    "## Imports"
   ]
  },
  {
   "cell_type": "code",
   "execution_count": 1,
   "id": "7458bf45-4e5d-4ef8-b804-f5981d8d4549",
   "metadata": {},
   "outputs": [
    {
     "name": "stderr",
     "output_type": "stream",
     "text": [
      "C:\\Users\\RhysKilian\\anaconda3\\envs\\xgboost-scikit-mlflow-optuna\\lib\\site-packages\\xgboost\\compat.py:36: FutureWarning: pandas.Int64Index is deprecated and will be removed from pandas in a future version. Use pandas.Index with the appropriate dtype instead.\n",
      "  from pandas import MultiIndex, Int64Index\n",
      "C:\\Users\\RhysKilian\\anaconda3\\envs\\xgboost-scikit-mlflow-optuna\\lib\\site-packages\\tqdm\\auto.py:22: TqdmWarning: IProgress not found. Please update jupyter and ipywidgets. See https://ipywidgets.readthedocs.io/en/stable/user_install.html\n",
      "  from .autonotebook import tqdm as notebook_tqdm\n"
     ]
    }
   ],
   "source": [
    "#----------------------------------------- packages\n",
    "import pandas as pd\n",
    "import numpy as np\n",
    "\n",
    "from sklearn.model_selection import train_test_split, cross_val_score\n",
    "from sklearn.preprocessing import LabelEncoder\n",
    "\n",
    "import xgboost as xgb\n",
    "\n",
    "import optuna\n",
    "import mlflow\n",
    "\n",
    "from pprint import pformat\n",
    "#----------------------------------------- settings\n",
    "pd.set_option('display.max_columns', None)"
   ]
  },
  {
   "cell_type": "markdown",
   "id": "0ede5e12-d0a4-4a35-8a42-2a52d909db0f",
   "metadata": {},
   "source": [
    "## Data preparation\n",
    "We use the [Telco Customer Churn](https://www.kaggle.com/datasets/blastchar/telco-customer-churn) available on Kaggle which is a binary classification problem. The data set includes information about:\n",
    "* Customers who left within the last month – the column is called Churn\n",
    "* Services that each customer has signed up for – phone, multiple lines, internet, online security, online backup, device protection, tech support, and streaming TV and movies\n",
    "* Customer account information – how long they’ve been a customer, contract, payment method, paperless billing, monthly charges, and total charges\n",
    "* Demographic info about customers – gender, age range, and if they have partners and dependents"
   ]
  },
  {
   "cell_type": "markdown",
   "id": "cf8b77e1-a590-455b-92ae-a1a42d7b975d",
   "metadata": {},
   "source": [
    "### Data processing\n",
    "There are several Kaggle notebooks that demonstrate how to prepare the Telco churn data. I use the workbook provided by [Kaan Boke](https://www.kaggle.com/code/kaanboke/xgboost-lightgbm-catboost-imbalanced-data) for simplicity. I will not do any data transformation or normalisation, however, you could easily add it in this section."
   ]
  },
  {
   "cell_type": "code",
   "execution_count": 2,
   "id": "6add4d0d-e9e5-4a5f-bf9f-c1e2bf1bcb00",
   "metadata": {},
   "outputs": [],
   "source": [
    "# Read data\n",
    "df = pd.read_csv('data/telco_customer_churn.csv')\n",
    "\n",
    "# Remove columns we are not going to use\n",
    "df = df.drop(['customerID','gender','PhoneService'],axis=1)\n",
    "\n",
    "# 1/0 encode the dependent variable\n",
    "le = LabelEncoder()\n",
    "df['Churn']=le.fit_transform(df['Churn'])\n",
    "\n",
    "# Missing data\n",
    "df['TotalCharges']= df['TotalCharges'].apply(lambda x: x if x!= ' ' else np.nan).astype(float)\n",
    "df[['OnlineSecurity','OnlineBackup','DeviceProtection','TechSupport','StreamingTV','StreamingMovies']]= df[['OnlineSecurity','OnlineBackup','DeviceProtection','TechSupport','StreamingTV','StreamingMovies']].replace('No internet service','No')\n",
    "\n",
    "# Get dummy variables\n",
    "df = pd.get_dummies(df)\n",
    "\n",
    "# X and y arrays before train test split\n",
    "X = df.drop('Churn', axis=1)\n",
    "y = df['Churn']"
   ]
  },
  {
   "cell_type": "code",
   "execution_count": 3,
   "id": "a8826b77-cd25-4b1b-b0fe-930f946a4ee8",
   "metadata": {},
   "outputs": [
    {
     "data": {
      "text/html": [
       "<div>\n",
       "<style scoped>\n",
       "    .dataframe tbody tr th:only-of-type {\n",
       "        vertical-align: middle;\n",
       "    }\n",
       "\n",
       "    .dataframe tbody tr th {\n",
       "        vertical-align: top;\n",
       "    }\n",
       "\n",
       "    .dataframe thead th {\n",
       "        text-align: right;\n",
       "    }\n",
       "</style>\n",
       "<table border=\"1\" class=\"dataframe\">\n",
       "  <thead>\n",
       "    <tr style=\"text-align: right;\">\n",
       "      <th></th>\n",
       "      <th>SeniorCitizen</th>\n",
       "      <th>tenure</th>\n",
       "      <th>MonthlyCharges</th>\n",
       "      <th>TotalCharges</th>\n",
       "      <th>Partner_No</th>\n",
       "      <th>Partner_Yes</th>\n",
       "      <th>Dependents_No</th>\n",
       "      <th>Dependents_Yes</th>\n",
       "      <th>MultipleLines_No</th>\n",
       "      <th>MultipleLines_No phone service</th>\n",
       "      <th>MultipleLines_Yes</th>\n",
       "      <th>InternetService_DSL</th>\n",
       "      <th>InternetService_Fiber optic</th>\n",
       "      <th>InternetService_No</th>\n",
       "      <th>OnlineSecurity_No</th>\n",
       "      <th>OnlineSecurity_Yes</th>\n",
       "      <th>OnlineBackup_No</th>\n",
       "      <th>OnlineBackup_Yes</th>\n",
       "      <th>DeviceProtection_No</th>\n",
       "      <th>DeviceProtection_Yes</th>\n",
       "      <th>TechSupport_No</th>\n",
       "      <th>TechSupport_Yes</th>\n",
       "      <th>StreamingTV_No</th>\n",
       "      <th>StreamingTV_Yes</th>\n",
       "      <th>StreamingMovies_No</th>\n",
       "      <th>StreamingMovies_Yes</th>\n",
       "      <th>Contract_Month-to-month</th>\n",
       "      <th>Contract_One year</th>\n",
       "      <th>Contract_Two year</th>\n",
       "      <th>PaperlessBilling_No</th>\n",
       "      <th>PaperlessBilling_Yes</th>\n",
       "      <th>PaymentMethod_Bank transfer (automatic)</th>\n",
       "      <th>PaymentMethod_Credit card (automatic)</th>\n",
       "      <th>PaymentMethod_Electronic check</th>\n",
       "      <th>PaymentMethod_Mailed check</th>\n",
       "    </tr>\n",
       "  </thead>\n",
       "  <tbody>\n",
       "    <tr>\n",
       "      <th>0</th>\n",
       "      <td>0</td>\n",
       "      <td>1</td>\n",
       "      <td>29.85</td>\n",
       "      <td>29.85</td>\n",
       "      <td>0</td>\n",
       "      <td>1</td>\n",
       "      <td>1</td>\n",
       "      <td>0</td>\n",
       "      <td>0</td>\n",
       "      <td>1</td>\n",
       "      <td>0</td>\n",
       "      <td>1</td>\n",
       "      <td>0</td>\n",
       "      <td>0</td>\n",
       "      <td>1</td>\n",
       "      <td>0</td>\n",
       "      <td>0</td>\n",
       "      <td>1</td>\n",
       "      <td>1</td>\n",
       "      <td>0</td>\n",
       "      <td>1</td>\n",
       "      <td>0</td>\n",
       "      <td>1</td>\n",
       "      <td>0</td>\n",
       "      <td>1</td>\n",
       "      <td>0</td>\n",
       "      <td>1</td>\n",
       "      <td>0</td>\n",
       "      <td>0</td>\n",
       "      <td>0</td>\n",
       "      <td>1</td>\n",
       "      <td>0</td>\n",
       "      <td>0</td>\n",
       "      <td>1</td>\n",
       "      <td>0</td>\n",
       "    </tr>\n",
       "    <tr>\n",
       "      <th>1</th>\n",
       "      <td>0</td>\n",
       "      <td>34</td>\n",
       "      <td>56.95</td>\n",
       "      <td>1889.50</td>\n",
       "      <td>1</td>\n",
       "      <td>0</td>\n",
       "      <td>1</td>\n",
       "      <td>0</td>\n",
       "      <td>1</td>\n",
       "      <td>0</td>\n",
       "      <td>0</td>\n",
       "      <td>1</td>\n",
       "      <td>0</td>\n",
       "      <td>0</td>\n",
       "      <td>0</td>\n",
       "      <td>1</td>\n",
       "      <td>1</td>\n",
       "      <td>0</td>\n",
       "      <td>0</td>\n",
       "      <td>1</td>\n",
       "      <td>1</td>\n",
       "      <td>0</td>\n",
       "      <td>1</td>\n",
       "      <td>0</td>\n",
       "      <td>1</td>\n",
       "      <td>0</td>\n",
       "      <td>0</td>\n",
       "      <td>1</td>\n",
       "      <td>0</td>\n",
       "      <td>1</td>\n",
       "      <td>0</td>\n",
       "      <td>0</td>\n",
       "      <td>0</td>\n",
       "      <td>0</td>\n",
       "      <td>1</td>\n",
       "    </tr>\n",
       "    <tr>\n",
       "      <th>2</th>\n",
       "      <td>0</td>\n",
       "      <td>2</td>\n",
       "      <td>53.85</td>\n",
       "      <td>108.15</td>\n",
       "      <td>1</td>\n",
       "      <td>0</td>\n",
       "      <td>1</td>\n",
       "      <td>0</td>\n",
       "      <td>1</td>\n",
       "      <td>0</td>\n",
       "      <td>0</td>\n",
       "      <td>1</td>\n",
       "      <td>0</td>\n",
       "      <td>0</td>\n",
       "      <td>0</td>\n",
       "      <td>1</td>\n",
       "      <td>0</td>\n",
       "      <td>1</td>\n",
       "      <td>1</td>\n",
       "      <td>0</td>\n",
       "      <td>1</td>\n",
       "      <td>0</td>\n",
       "      <td>1</td>\n",
       "      <td>0</td>\n",
       "      <td>1</td>\n",
       "      <td>0</td>\n",
       "      <td>1</td>\n",
       "      <td>0</td>\n",
       "      <td>0</td>\n",
       "      <td>0</td>\n",
       "      <td>1</td>\n",
       "      <td>0</td>\n",
       "      <td>0</td>\n",
       "      <td>0</td>\n",
       "      <td>1</td>\n",
       "    </tr>\n",
       "    <tr>\n",
       "      <th>3</th>\n",
       "      <td>0</td>\n",
       "      <td>45</td>\n",
       "      <td>42.30</td>\n",
       "      <td>1840.75</td>\n",
       "      <td>1</td>\n",
       "      <td>0</td>\n",
       "      <td>1</td>\n",
       "      <td>0</td>\n",
       "      <td>0</td>\n",
       "      <td>1</td>\n",
       "      <td>0</td>\n",
       "      <td>1</td>\n",
       "      <td>0</td>\n",
       "      <td>0</td>\n",
       "      <td>0</td>\n",
       "      <td>1</td>\n",
       "      <td>1</td>\n",
       "      <td>0</td>\n",
       "      <td>0</td>\n",
       "      <td>1</td>\n",
       "      <td>0</td>\n",
       "      <td>1</td>\n",
       "      <td>1</td>\n",
       "      <td>0</td>\n",
       "      <td>1</td>\n",
       "      <td>0</td>\n",
       "      <td>0</td>\n",
       "      <td>1</td>\n",
       "      <td>0</td>\n",
       "      <td>1</td>\n",
       "      <td>0</td>\n",
       "      <td>1</td>\n",
       "      <td>0</td>\n",
       "      <td>0</td>\n",
       "      <td>0</td>\n",
       "    </tr>\n",
       "    <tr>\n",
       "      <th>4</th>\n",
       "      <td>0</td>\n",
       "      <td>2</td>\n",
       "      <td>70.70</td>\n",
       "      <td>151.65</td>\n",
       "      <td>1</td>\n",
       "      <td>0</td>\n",
       "      <td>1</td>\n",
       "      <td>0</td>\n",
       "      <td>1</td>\n",
       "      <td>0</td>\n",
       "      <td>0</td>\n",
       "      <td>0</td>\n",
       "      <td>1</td>\n",
       "      <td>0</td>\n",
       "      <td>1</td>\n",
       "      <td>0</td>\n",
       "      <td>1</td>\n",
       "      <td>0</td>\n",
       "      <td>1</td>\n",
       "      <td>0</td>\n",
       "      <td>1</td>\n",
       "      <td>0</td>\n",
       "      <td>1</td>\n",
       "      <td>0</td>\n",
       "      <td>1</td>\n",
       "      <td>0</td>\n",
       "      <td>1</td>\n",
       "      <td>0</td>\n",
       "      <td>0</td>\n",
       "      <td>0</td>\n",
       "      <td>1</td>\n",
       "      <td>0</td>\n",
       "      <td>0</td>\n",
       "      <td>1</td>\n",
       "      <td>0</td>\n",
       "    </tr>\n",
       "  </tbody>\n",
       "</table>\n",
       "</div>"
      ],
      "text/plain": [
       "   SeniorCitizen  tenure  MonthlyCharges  TotalCharges  Partner_No  \\\n",
       "0              0       1           29.85         29.85           0   \n",
       "1              0      34           56.95       1889.50           1   \n",
       "2              0       2           53.85        108.15           1   \n",
       "3              0      45           42.30       1840.75           1   \n",
       "4              0       2           70.70        151.65           1   \n",
       "\n",
       "   Partner_Yes  Dependents_No  Dependents_Yes  MultipleLines_No  \\\n",
       "0            1              1               0                 0   \n",
       "1            0              1               0                 1   \n",
       "2            0              1               0                 1   \n",
       "3            0              1               0                 0   \n",
       "4            0              1               0                 1   \n",
       "\n",
       "   MultipleLines_No phone service  MultipleLines_Yes  InternetService_DSL  \\\n",
       "0                               1                  0                    1   \n",
       "1                               0                  0                    1   \n",
       "2                               0                  0                    1   \n",
       "3                               1                  0                    1   \n",
       "4                               0                  0                    0   \n",
       "\n",
       "   InternetService_Fiber optic  InternetService_No  OnlineSecurity_No  \\\n",
       "0                            0                   0                  1   \n",
       "1                            0                   0                  0   \n",
       "2                            0                   0                  0   \n",
       "3                            0                   0                  0   \n",
       "4                            1                   0                  1   \n",
       "\n",
       "   OnlineSecurity_Yes  OnlineBackup_No  OnlineBackup_Yes  DeviceProtection_No  \\\n",
       "0                   0                0                 1                    1   \n",
       "1                   1                1                 0                    0   \n",
       "2                   1                0                 1                    1   \n",
       "3                   1                1                 0                    0   \n",
       "4                   0                1                 0                    1   \n",
       "\n",
       "   DeviceProtection_Yes  TechSupport_No  TechSupport_Yes  StreamingTV_No  \\\n",
       "0                     0               1                0               1   \n",
       "1                     1               1                0               1   \n",
       "2                     0               1                0               1   \n",
       "3                     1               0                1               1   \n",
       "4                     0               1                0               1   \n",
       "\n",
       "   StreamingTV_Yes  StreamingMovies_No  StreamingMovies_Yes  \\\n",
       "0                0                   1                    0   \n",
       "1                0                   1                    0   \n",
       "2                0                   1                    0   \n",
       "3                0                   1                    0   \n",
       "4                0                   1                    0   \n",
       "\n",
       "   Contract_Month-to-month  Contract_One year  Contract_Two year  \\\n",
       "0                        1                  0                  0   \n",
       "1                        0                  1                  0   \n",
       "2                        1                  0                  0   \n",
       "3                        0                  1                  0   \n",
       "4                        1                  0                  0   \n",
       "\n",
       "   PaperlessBilling_No  PaperlessBilling_Yes  \\\n",
       "0                    0                     1   \n",
       "1                    1                     0   \n",
       "2                    0                     1   \n",
       "3                    1                     0   \n",
       "4                    0                     1   \n",
       "\n",
       "   PaymentMethod_Bank transfer (automatic)  \\\n",
       "0                                        0   \n",
       "1                                        0   \n",
       "2                                        0   \n",
       "3                                        1   \n",
       "4                                        0   \n",
       "\n",
       "   PaymentMethod_Credit card (automatic)  PaymentMethod_Electronic check  \\\n",
       "0                                      0                               1   \n",
       "1                                      0                               0   \n",
       "2                                      0                               0   \n",
       "3                                      0                               0   \n",
       "4                                      0                               1   \n",
       "\n",
       "   PaymentMethod_Mailed check  \n",
       "0                           0  \n",
       "1                           1  \n",
       "2                           1  \n",
       "3                           0  \n",
       "4                           0  "
      ]
     },
     "execution_count": 3,
     "metadata": {},
     "output_type": "execute_result"
    }
   ],
   "source": [
    "X.head()"
   ]
  },
  {
   "cell_type": "code",
   "execution_count": 4,
   "id": "b853fbdd-98f7-4685-9512-a74e18d950e3",
   "metadata": {},
   "outputs": [
    {
     "data": {
      "text/plain": [
       "0    0\n",
       "1    0\n",
       "2    1\n",
       "3    0\n",
       "4    1\n",
       "Name: Churn, dtype: int32"
      ]
     },
     "execution_count": 4,
     "metadata": {},
     "output_type": "execute_result"
    }
   ],
   "source": [
    "y.head()"
   ]
  },
  {
   "cell_type": "markdown",
   "id": "ba3b664d-5173-45ec-a2d5-20c79d5a4103",
   "metadata": {},
   "source": [
    "### Train test split\n",
    "We use a 80/20 split."
   ]
  },
  {
   "cell_type": "code",
   "execution_count": 5,
   "id": "c8f8a5b6-6af4-4f6b-b1c7-f0e4c9d4aa65",
   "metadata": {},
   "outputs": [],
   "source": [
    "X_train, X_test, y_train, y_test = train_test_split(X, y, test_size=0.2, random_state=42)"
   ]
  },
  {
   "cell_type": "code",
   "execution_count": 6,
   "id": "025bfc53-9bc1-4225-a62c-da33920720cf",
   "metadata": {},
   "outputs": [
    {
     "data": {
      "text/html": [
       "<div>\n",
       "<style scoped>\n",
       "    .dataframe tbody tr th:only-of-type {\n",
       "        vertical-align: middle;\n",
       "    }\n",
       "\n",
       "    .dataframe tbody tr th {\n",
       "        vertical-align: top;\n",
       "    }\n",
       "\n",
       "    .dataframe thead th {\n",
       "        text-align: right;\n",
       "    }\n",
       "</style>\n",
       "<table border=\"1\" class=\"dataframe\">\n",
       "  <thead>\n",
       "    <tr style=\"text-align: right;\">\n",
       "      <th></th>\n",
       "      <th>SeniorCitizen</th>\n",
       "      <th>tenure</th>\n",
       "      <th>MonthlyCharges</th>\n",
       "      <th>TotalCharges</th>\n",
       "      <th>Partner_No</th>\n",
       "      <th>Partner_Yes</th>\n",
       "      <th>Dependents_No</th>\n",
       "      <th>Dependents_Yes</th>\n",
       "      <th>MultipleLines_No</th>\n",
       "      <th>MultipleLines_No phone service</th>\n",
       "      <th>MultipleLines_Yes</th>\n",
       "      <th>InternetService_DSL</th>\n",
       "      <th>InternetService_Fiber optic</th>\n",
       "      <th>InternetService_No</th>\n",
       "      <th>OnlineSecurity_No</th>\n",
       "      <th>OnlineSecurity_Yes</th>\n",
       "      <th>OnlineBackup_No</th>\n",
       "      <th>OnlineBackup_Yes</th>\n",
       "      <th>DeviceProtection_No</th>\n",
       "      <th>DeviceProtection_Yes</th>\n",
       "      <th>TechSupport_No</th>\n",
       "      <th>TechSupport_Yes</th>\n",
       "      <th>StreamingTV_No</th>\n",
       "      <th>StreamingTV_Yes</th>\n",
       "      <th>StreamingMovies_No</th>\n",
       "      <th>StreamingMovies_Yes</th>\n",
       "      <th>Contract_Month-to-month</th>\n",
       "      <th>Contract_One year</th>\n",
       "      <th>Contract_Two year</th>\n",
       "      <th>PaperlessBilling_No</th>\n",
       "      <th>PaperlessBilling_Yes</th>\n",
       "      <th>PaymentMethod_Bank transfer (automatic)</th>\n",
       "      <th>PaymentMethod_Credit card (automatic)</th>\n",
       "      <th>PaymentMethod_Electronic check</th>\n",
       "      <th>PaymentMethod_Mailed check</th>\n",
       "    </tr>\n",
       "  </thead>\n",
       "  <tbody>\n",
       "    <tr>\n",
       "      <th>2142</th>\n",
       "      <td>0</td>\n",
       "      <td>21</td>\n",
       "      <td>64.85</td>\n",
       "      <td>1336.80</td>\n",
       "      <td>1</td>\n",
       "      <td>0</td>\n",
       "      <td>0</td>\n",
       "      <td>1</td>\n",
       "      <td>1</td>\n",
       "      <td>0</td>\n",
       "      <td>0</td>\n",
       "      <td>1</td>\n",
       "      <td>0</td>\n",
       "      <td>0</td>\n",
       "      <td>0</td>\n",
       "      <td>1</td>\n",
       "      <td>1</td>\n",
       "      <td>0</td>\n",
       "      <td>0</td>\n",
       "      <td>1</td>\n",
       "      <td>1</td>\n",
       "      <td>0</td>\n",
       "      <td>1</td>\n",
       "      <td>0</td>\n",
       "      <td>0</td>\n",
       "      <td>1</td>\n",
       "      <td>0</td>\n",
       "      <td>1</td>\n",
       "      <td>0</td>\n",
       "      <td>1</td>\n",
       "      <td>0</td>\n",
       "      <td>0</td>\n",
       "      <td>0</td>\n",
       "      <td>0</td>\n",
       "      <td>1</td>\n",
       "    </tr>\n",
       "    <tr>\n",
       "      <th>1623</th>\n",
       "      <td>0</td>\n",
       "      <td>54</td>\n",
       "      <td>97.20</td>\n",
       "      <td>5129.45</td>\n",
       "      <td>1</td>\n",
       "      <td>0</td>\n",
       "      <td>1</td>\n",
       "      <td>0</td>\n",
       "      <td>0</td>\n",
       "      <td>0</td>\n",
       "      <td>1</td>\n",
       "      <td>0</td>\n",
       "      <td>1</td>\n",
       "      <td>0</td>\n",
       "      <td>1</td>\n",
       "      <td>0</td>\n",
       "      <td>0</td>\n",
       "      <td>1</td>\n",
       "      <td>1</td>\n",
       "      <td>0</td>\n",
       "      <td>1</td>\n",
       "      <td>0</td>\n",
       "      <td>0</td>\n",
       "      <td>1</td>\n",
       "      <td>0</td>\n",
       "      <td>1</td>\n",
       "      <td>0</td>\n",
       "      <td>0</td>\n",
       "      <td>1</td>\n",
       "      <td>0</td>\n",
       "      <td>1</td>\n",
       "      <td>1</td>\n",
       "      <td>0</td>\n",
       "      <td>0</td>\n",
       "      <td>0</td>\n",
       "    </tr>\n",
       "    <tr>\n",
       "      <th>6074</th>\n",
       "      <td>0</td>\n",
       "      <td>1</td>\n",
       "      <td>23.45</td>\n",
       "      <td>23.45</td>\n",
       "      <td>0</td>\n",
       "      <td>1</td>\n",
       "      <td>1</td>\n",
       "      <td>0</td>\n",
       "      <td>0</td>\n",
       "      <td>1</td>\n",
       "      <td>0</td>\n",
       "      <td>1</td>\n",
       "      <td>0</td>\n",
       "      <td>0</td>\n",
       "      <td>1</td>\n",
       "      <td>0</td>\n",
       "      <td>1</td>\n",
       "      <td>0</td>\n",
       "      <td>1</td>\n",
       "      <td>0</td>\n",
       "      <td>1</td>\n",
       "      <td>0</td>\n",
       "      <td>1</td>\n",
       "      <td>0</td>\n",
       "      <td>1</td>\n",
       "      <td>0</td>\n",
       "      <td>1</td>\n",
       "      <td>0</td>\n",
       "      <td>0</td>\n",
       "      <td>0</td>\n",
       "      <td>1</td>\n",
       "      <td>0</td>\n",
       "      <td>0</td>\n",
       "      <td>1</td>\n",
       "      <td>0</td>\n",
       "    </tr>\n",
       "    <tr>\n",
       "      <th>1362</th>\n",
       "      <td>0</td>\n",
       "      <td>4</td>\n",
       "      <td>70.20</td>\n",
       "      <td>237.95</td>\n",
       "      <td>1</td>\n",
       "      <td>0</td>\n",
       "      <td>1</td>\n",
       "      <td>0</td>\n",
       "      <td>1</td>\n",
       "      <td>0</td>\n",
       "      <td>0</td>\n",
       "      <td>0</td>\n",
       "      <td>1</td>\n",
       "      <td>0</td>\n",
       "      <td>1</td>\n",
       "      <td>0</td>\n",
       "      <td>1</td>\n",
       "      <td>0</td>\n",
       "      <td>1</td>\n",
       "      <td>0</td>\n",
       "      <td>1</td>\n",
       "      <td>0</td>\n",
       "      <td>1</td>\n",
       "      <td>0</td>\n",
       "      <td>1</td>\n",
       "      <td>0</td>\n",
       "      <td>1</td>\n",
       "      <td>0</td>\n",
       "      <td>0</td>\n",
       "      <td>0</td>\n",
       "      <td>1</td>\n",
       "      <td>0</td>\n",
       "      <td>0</td>\n",
       "      <td>1</td>\n",
       "      <td>0</td>\n",
       "    </tr>\n",
       "    <tr>\n",
       "      <th>6754</th>\n",
       "      <td>0</td>\n",
       "      <td>0</td>\n",
       "      <td>61.90</td>\n",
       "      <td>NaN</td>\n",
       "      <td>1</td>\n",
       "      <td>0</td>\n",
       "      <td>0</td>\n",
       "      <td>1</td>\n",
       "      <td>0</td>\n",
       "      <td>0</td>\n",
       "      <td>1</td>\n",
       "      <td>1</td>\n",
       "      <td>0</td>\n",
       "      <td>0</td>\n",
       "      <td>0</td>\n",
       "      <td>1</td>\n",
       "      <td>0</td>\n",
       "      <td>1</td>\n",
       "      <td>1</td>\n",
       "      <td>0</td>\n",
       "      <td>0</td>\n",
       "      <td>1</td>\n",
       "      <td>1</td>\n",
       "      <td>0</td>\n",
       "      <td>1</td>\n",
       "      <td>0</td>\n",
       "      <td>0</td>\n",
       "      <td>0</td>\n",
       "      <td>1</td>\n",
       "      <td>0</td>\n",
       "      <td>1</td>\n",
       "      <td>1</td>\n",
       "      <td>0</td>\n",
       "      <td>0</td>\n",
       "      <td>0</td>\n",
       "    </tr>\n",
       "    <tr>\n",
       "      <th>...</th>\n",
       "      <td>...</td>\n",
       "      <td>...</td>\n",
       "      <td>...</td>\n",
       "      <td>...</td>\n",
       "      <td>...</td>\n",
       "      <td>...</td>\n",
       "      <td>...</td>\n",
       "      <td>...</td>\n",
       "      <td>...</td>\n",
       "      <td>...</td>\n",
       "      <td>...</td>\n",
       "      <td>...</td>\n",
       "      <td>...</td>\n",
       "      <td>...</td>\n",
       "      <td>...</td>\n",
       "      <td>...</td>\n",
       "      <td>...</td>\n",
       "      <td>...</td>\n",
       "      <td>...</td>\n",
       "      <td>...</td>\n",
       "      <td>...</td>\n",
       "      <td>...</td>\n",
       "      <td>...</td>\n",
       "      <td>...</td>\n",
       "      <td>...</td>\n",
       "      <td>...</td>\n",
       "      <td>...</td>\n",
       "      <td>...</td>\n",
       "      <td>...</td>\n",
       "      <td>...</td>\n",
       "      <td>...</td>\n",
       "      <td>...</td>\n",
       "      <td>...</td>\n",
       "      <td>...</td>\n",
       "      <td>...</td>\n",
       "    </tr>\n",
       "    <tr>\n",
       "      <th>3772</th>\n",
       "      <td>0</td>\n",
       "      <td>1</td>\n",
       "      <td>95.00</td>\n",
       "      <td>95.00</td>\n",
       "      <td>0</td>\n",
       "      <td>1</td>\n",
       "      <td>1</td>\n",
       "      <td>0</td>\n",
       "      <td>1</td>\n",
       "      <td>0</td>\n",
       "      <td>0</td>\n",
       "      <td>0</td>\n",
       "      <td>1</td>\n",
       "      <td>0</td>\n",
       "      <td>0</td>\n",
       "      <td>1</td>\n",
       "      <td>1</td>\n",
       "      <td>0</td>\n",
       "      <td>1</td>\n",
       "      <td>0</td>\n",
       "      <td>1</td>\n",
       "      <td>0</td>\n",
       "      <td>0</td>\n",
       "      <td>1</td>\n",
       "      <td>0</td>\n",
       "      <td>1</td>\n",
       "      <td>1</td>\n",
       "      <td>0</td>\n",
       "      <td>0</td>\n",
       "      <td>0</td>\n",
       "      <td>1</td>\n",
       "      <td>0</td>\n",
       "      <td>0</td>\n",
       "      <td>1</td>\n",
       "      <td>0</td>\n",
       "    </tr>\n",
       "    <tr>\n",
       "      <th>5191</th>\n",
       "      <td>0</td>\n",
       "      <td>23</td>\n",
       "      <td>91.10</td>\n",
       "      <td>2198.30</td>\n",
       "      <td>0</td>\n",
       "      <td>1</td>\n",
       "      <td>0</td>\n",
       "      <td>1</td>\n",
       "      <td>0</td>\n",
       "      <td>0</td>\n",
       "      <td>1</td>\n",
       "      <td>1</td>\n",
       "      <td>0</td>\n",
       "      <td>0</td>\n",
       "      <td>0</td>\n",
       "      <td>1</td>\n",
       "      <td>0</td>\n",
       "      <td>1</td>\n",
       "      <td>0</td>\n",
       "      <td>1</td>\n",
       "      <td>0</td>\n",
       "      <td>1</td>\n",
       "      <td>0</td>\n",
       "      <td>1</td>\n",
       "      <td>0</td>\n",
       "      <td>1</td>\n",
       "      <td>0</td>\n",
       "      <td>0</td>\n",
       "      <td>1</td>\n",
       "      <td>0</td>\n",
       "      <td>1</td>\n",
       "      <td>0</td>\n",
       "      <td>1</td>\n",
       "      <td>0</td>\n",
       "      <td>0</td>\n",
       "    </tr>\n",
       "    <tr>\n",
       "      <th>5226</th>\n",
       "      <td>0</td>\n",
       "      <td>12</td>\n",
       "      <td>21.15</td>\n",
       "      <td>306.05</td>\n",
       "      <td>0</td>\n",
       "      <td>1</td>\n",
       "      <td>0</td>\n",
       "      <td>1</td>\n",
       "      <td>1</td>\n",
       "      <td>0</td>\n",
       "      <td>0</td>\n",
       "      <td>0</td>\n",
       "      <td>0</td>\n",
       "      <td>1</td>\n",
       "      <td>1</td>\n",
       "      <td>0</td>\n",
       "      <td>1</td>\n",
       "      <td>0</td>\n",
       "      <td>1</td>\n",
       "      <td>0</td>\n",
       "      <td>1</td>\n",
       "      <td>0</td>\n",
       "      <td>1</td>\n",
       "      <td>0</td>\n",
       "      <td>1</td>\n",
       "      <td>0</td>\n",
       "      <td>1</td>\n",
       "      <td>0</td>\n",
       "      <td>0</td>\n",
       "      <td>0</td>\n",
       "      <td>1</td>\n",
       "      <td>0</td>\n",
       "      <td>0</td>\n",
       "      <td>1</td>\n",
       "      <td>0</td>\n",
       "    </tr>\n",
       "    <tr>\n",
       "      <th>5390</th>\n",
       "      <td>1</td>\n",
       "      <td>12</td>\n",
       "      <td>99.45</td>\n",
       "      <td>1200.15</td>\n",
       "      <td>1</td>\n",
       "      <td>0</td>\n",
       "      <td>1</td>\n",
       "      <td>0</td>\n",
       "      <td>0</td>\n",
       "      <td>0</td>\n",
       "      <td>1</td>\n",
       "      <td>0</td>\n",
       "      <td>1</td>\n",
       "      <td>0</td>\n",
       "      <td>1</td>\n",
       "      <td>0</td>\n",
       "      <td>1</td>\n",
       "      <td>0</td>\n",
       "      <td>0</td>\n",
       "      <td>1</td>\n",
       "      <td>1</td>\n",
       "      <td>0</td>\n",
       "      <td>0</td>\n",
       "      <td>1</td>\n",
       "      <td>0</td>\n",
       "      <td>1</td>\n",
       "      <td>1</td>\n",
       "      <td>0</td>\n",
       "      <td>0</td>\n",
       "      <td>0</td>\n",
       "      <td>1</td>\n",
       "      <td>0</td>\n",
       "      <td>0</td>\n",
       "      <td>1</td>\n",
       "      <td>0</td>\n",
       "    </tr>\n",
       "    <tr>\n",
       "      <th>860</th>\n",
       "      <td>0</td>\n",
       "      <td>26</td>\n",
       "      <td>19.80</td>\n",
       "      <td>457.30</td>\n",
       "      <td>1</td>\n",
       "      <td>0</td>\n",
       "      <td>1</td>\n",
       "      <td>0</td>\n",
       "      <td>1</td>\n",
       "      <td>0</td>\n",
       "      <td>0</td>\n",
       "      <td>0</td>\n",
       "      <td>0</td>\n",
       "      <td>1</td>\n",
       "      <td>1</td>\n",
       "      <td>0</td>\n",
       "      <td>1</td>\n",
       "      <td>0</td>\n",
       "      <td>1</td>\n",
       "      <td>0</td>\n",
       "      <td>1</td>\n",
       "      <td>0</td>\n",
       "      <td>1</td>\n",
       "      <td>0</td>\n",
       "      <td>1</td>\n",
       "      <td>0</td>\n",
       "      <td>0</td>\n",
       "      <td>1</td>\n",
       "      <td>0</td>\n",
       "      <td>1</td>\n",
       "      <td>0</td>\n",
       "      <td>0</td>\n",
       "      <td>1</td>\n",
       "      <td>0</td>\n",
       "      <td>0</td>\n",
       "    </tr>\n",
       "  </tbody>\n",
       "</table>\n",
       "<p>5634 rows × 35 columns</p>\n",
       "</div>"
      ],
      "text/plain": [
       "      SeniorCitizen  tenure  MonthlyCharges  TotalCharges  Partner_No  \\\n",
       "2142              0      21           64.85       1336.80           1   \n",
       "1623              0      54           97.20       5129.45           1   \n",
       "6074              0       1           23.45         23.45           0   \n",
       "1362              0       4           70.20        237.95           1   \n",
       "6754              0       0           61.90           NaN           1   \n",
       "...             ...     ...             ...           ...         ...   \n",
       "3772              0       1           95.00         95.00           0   \n",
       "5191              0      23           91.10       2198.30           0   \n",
       "5226              0      12           21.15        306.05           0   \n",
       "5390              1      12           99.45       1200.15           1   \n",
       "860               0      26           19.80        457.30           1   \n",
       "\n",
       "      Partner_Yes  Dependents_No  Dependents_Yes  MultipleLines_No  \\\n",
       "2142            0              0               1                 1   \n",
       "1623            0              1               0                 0   \n",
       "6074            1              1               0                 0   \n",
       "1362            0              1               0                 1   \n",
       "6754            0              0               1                 0   \n",
       "...           ...            ...             ...               ...   \n",
       "3772            1              1               0                 1   \n",
       "5191            1              0               1                 0   \n",
       "5226            1              0               1                 1   \n",
       "5390            0              1               0                 0   \n",
       "860             0              1               0                 1   \n",
       "\n",
       "      MultipleLines_No phone service  MultipleLines_Yes  InternetService_DSL  \\\n",
       "2142                               0                  0                    1   \n",
       "1623                               0                  1                    0   \n",
       "6074                               1                  0                    1   \n",
       "1362                               0                  0                    0   \n",
       "6754                               0                  1                    1   \n",
       "...                              ...                ...                  ...   \n",
       "3772                               0                  0                    0   \n",
       "5191                               0                  1                    1   \n",
       "5226                               0                  0                    0   \n",
       "5390                               0                  1                    0   \n",
       "860                                0                  0                    0   \n",
       "\n",
       "      InternetService_Fiber optic  InternetService_No  OnlineSecurity_No  \\\n",
       "2142                            0                   0                  0   \n",
       "1623                            1                   0                  1   \n",
       "6074                            0                   0                  1   \n",
       "1362                            1                   0                  1   \n",
       "6754                            0                   0                  0   \n",
       "...                           ...                 ...                ...   \n",
       "3772                            1                   0                  0   \n",
       "5191                            0                   0                  0   \n",
       "5226                            0                   1                  1   \n",
       "5390                            1                   0                  1   \n",
       "860                             0                   1                  1   \n",
       "\n",
       "      OnlineSecurity_Yes  OnlineBackup_No  OnlineBackup_Yes  \\\n",
       "2142                   1                1                 0   \n",
       "1623                   0                0                 1   \n",
       "6074                   0                1                 0   \n",
       "1362                   0                1                 0   \n",
       "6754                   1                0                 1   \n",
       "...                  ...              ...               ...   \n",
       "3772                   1                1                 0   \n",
       "5191                   1                0                 1   \n",
       "5226                   0                1                 0   \n",
       "5390                   0                1                 0   \n",
       "860                    0                1                 0   \n",
       "\n",
       "      DeviceProtection_No  DeviceProtection_Yes  TechSupport_No  \\\n",
       "2142                    0                     1               1   \n",
       "1623                    1                     0               1   \n",
       "6074                    1                     0               1   \n",
       "1362                    1                     0               1   \n",
       "6754                    1                     0               0   \n",
       "...                   ...                   ...             ...   \n",
       "3772                    1                     0               1   \n",
       "5191                    0                     1               0   \n",
       "5226                    1                     0               1   \n",
       "5390                    0                     1               1   \n",
       "860                     1                     0               1   \n",
       "\n",
       "      TechSupport_Yes  StreamingTV_No  StreamingTV_Yes  StreamingMovies_No  \\\n",
       "2142                0               1                0                   0   \n",
       "1623                0               0                1                   0   \n",
       "6074                0               1                0                   1   \n",
       "1362                0               1                0                   1   \n",
       "6754                1               1                0                   1   \n",
       "...               ...             ...              ...                 ...   \n",
       "3772                0               0                1                   0   \n",
       "5191                1               0                1                   0   \n",
       "5226                0               1                0                   1   \n",
       "5390                0               0                1                   0   \n",
       "860                 0               1                0                   1   \n",
       "\n",
       "      StreamingMovies_Yes  Contract_Month-to-month  Contract_One year  \\\n",
       "2142                    1                        0                  1   \n",
       "1623                    1                        0                  0   \n",
       "6074                    0                        1                  0   \n",
       "1362                    0                        1                  0   \n",
       "6754                    0                        0                  0   \n",
       "...                   ...                      ...                ...   \n",
       "3772                    1                        1                  0   \n",
       "5191                    1                        0                  0   \n",
       "5226                    0                        1                  0   \n",
       "5390                    1                        1                  0   \n",
       "860                     0                        0                  1   \n",
       "\n",
       "      Contract_Two year  PaperlessBilling_No  PaperlessBilling_Yes  \\\n",
       "2142                  0                    1                     0   \n",
       "1623                  1                    0                     1   \n",
       "6074                  0                    0                     1   \n",
       "1362                  0                    0                     1   \n",
       "6754                  1                    0                     1   \n",
       "...                 ...                  ...                   ...   \n",
       "3772                  0                    0                     1   \n",
       "5191                  1                    0                     1   \n",
       "5226                  0                    0                     1   \n",
       "5390                  0                    0                     1   \n",
       "860                   0                    1                     0   \n",
       "\n",
       "      PaymentMethod_Bank transfer (automatic)  \\\n",
       "2142                                        0   \n",
       "1623                                        1   \n",
       "6074                                        0   \n",
       "1362                                        0   \n",
       "6754                                        1   \n",
       "...                                       ...   \n",
       "3772                                        0   \n",
       "5191                                        0   \n",
       "5226                                        0   \n",
       "5390                                        0   \n",
       "860                                         0   \n",
       "\n",
       "      PaymentMethod_Credit card (automatic)  PaymentMethod_Electronic check  \\\n",
       "2142                                      0                               0   \n",
       "1623                                      0                               0   \n",
       "6074                                      0                               1   \n",
       "1362                                      0                               1   \n",
       "6754                                      0                               0   \n",
       "...                                     ...                             ...   \n",
       "3772                                      0                               1   \n",
       "5191                                      1                               0   \n",
       "5226                                      0                               1   \n",
       "5390                                      0                               1   \n",
       "860                                       1                               0   \n",
       "\n",
       "      PaymentMethod_Mailed check  \n",
       "2142                           1  \n",
       "1623                           0  \n",
       "6074                           0  \n",
       "1362                           0  \n",
       "6754                           0  \n",
       "...                          ...  \n",
       "3772                           0  \n",
       "5191                           0  \n",
       "5226                           0  \n",
       "5390                           0  \n",
       "860                            0  \n",
       "\n",
       "[5634 rows x 35 columns]"
      ]
     },
     "execution_count": 6,
     "metadata": {},
     "output_type": "execute_result"
    }
   ],
   "source": [
    "X_train"
   ]
  },
  {
   "cell_type": "markdown",
   "id": "f1170557-d468-4987-9cbe-968b89a1c2ea",
   "metadata": {},
   "source": [
    "## Modelling"
   ]
  },
  {
   "cell_type": "markdown",
   "id": "43e8acf2-0950-47e9-9380-43a9d24e335f",
   "metadata": {},
   "source": [
    "### Obtain hyperparameters\n",
    "Obtain hyperparameters for this trial"
   ]
  },
  {
   "cell_type": "code",
   "execution_count": 7,
   "id": "c627c2de-5343-4973-90b4-cbb608db71a7",
   "metadata": {},
   "outputs": [],
   "source": [
    "# def suggest_hyperparameters(trial):\n",
    "    \n",
    "#     # Obtain the learning rate on a logarithmic scale\n",
    "#     lr = trial.suggest_loguniform('learning_rate', 0.05, 0.5)\n",
    "    \n",
    "#     # Obtain the max depth of trees in a range from 3 to 9 with step size 2\n",
    "#     max_depth = trial.suggest_float('max_depth', 3, 9, step=2)\n",
    "\n",
    "#     print(f\"Suggested hyperparameters: \\n{pformat(trial.params)}\")\n",
    "    \n",
    "#     return lr, max_depth"
   ]
  },
  {
   "cell_type": "markdown",
   "id": "9e2b7e9f-ec8e-42b9-9078-c4c32bcb6b58",
   "metadata": {},
   "source": [
    "### Objective"
   ]
  },
  {
   "cell_type": "markdown",
   "id": "11783243-9b1a-4b47-8b9e-fdbf1a5734ac",
   "metadata": {},
   "source": [
    "We use the f1 score maximised."
   ]
  },
  {
   "cell_type": "code",
   "execution_count": 8,
   "id": "e0dff8f5-7878-41fc-8f3a-8e19e9f8dfac",
   "metadata": {},
   "outputs": [],
   "source": [
    "def objective(trial):\n",
    "    \n",
    "    print(\"\\n********************************\\n\")\n",
    "    \n",
    "    # Parameters to search over\n",
    "    params = {\n",
    "        'n_estimators': trial.suggest_int('n_estimators', 0, 500),\n",
    "        'max_depth': trial.suggest_int('max_depth', 3, 6),\n",
    "        'reg_alpha': trial.suggest_uniform('reg_alpha', 0,6),\n",
    "        'reg_lambda': trial.suggest_uniform('reg_lambda', 0,2),\n",
    "        'learning_rate': trial.suggest_loguniform('learning_rate', 0.05, 0.5),\n",
    "        'colsample_bytree': trial.suggest_uniform('colsample_bytree', 0.4, 0.9),\n",
    "        'subsample': trial.suggest_uniform('subsample', 0.4, 0.9),\n",
    "        'nthread': -1\n",
    "    }\n",
    "    \n",
    "    # Start a new mlflow run\n",
    "    with mlflow.start_run():\n",
    "        \n",
    "        # Get hyperparameter suggestions created by optuna and log them as params using mlflow\n",
    "        # lr, max_depth = suggest_hyperparameters(trial)\n",
    "        mlflow.log_params(trial.params)\n",
    "\n",
    "        # Fit model\n",
    "        model = xgb.XGBClassifier(objective='binary:logistic', use_label_encoder=False, seed=123, **params)\n",
    "        \n",
    "        # Find the cross-val score\n",
    "        avg_f1_score_train = cross_val_score(model, X_train, y_train, scoring='f1', cv=3, n_jobs=-1).mean()\n",
    "        \n",
    "        # Log f1 score metric using mlflow\n",
    "        mlflow.log_metric('avg_f1_score_train', avg_f1_score_train)\n",
    "\n",
    "    # Return the score achieved by the model.\n",
    "    # This is needed as Optuna needs to know how the suggested hyperparameters are influencing the network loss.\n",
    "    return avg_f1_score_train"
   ]
  },
  {
   "cell_type": "markdown",
   "id": "a14b92ba-0ddf-428d-8b9e-aaca9fb0735c",
   "metadata": {},
   "source": [
    "### Main\n",
    "**Explain the purpose here.**"
   ]
  },
  {
   "cell_type": "code",
   "execution_count": 9,
   "id": "d5e91799-8f51-4619-ac2d-05a52cded996",
   "metadata": {},
   "outputs": [],
   "source": [
    "def main():\n",
    "    \n",
    "    # Create the optuna study which shares the experiment name\n",
    "    study = optuna.create_study(study_name='xgboost-mlflow-optuna', direction='maximize')\n",
    "    study.optimize(objective, n_trials=100)\n",
    "\n",
    "    # Print optuna study statistics\n",
    "    print(\"\\n++++++++++++++++++++++++++++++++++\\n\")\n",
    "    print(\"Study statistics: \")\n",
    "    print(\"  Number of finished trials: \", len(study.trials))\n",
    "\n",
    "    print(\"Best trial:\")\n",
    "    trial = study.best_trial\n",
    "\n",
    "    print(\"  Trial number: \", trial.number)\n",
    "    print(\"  Loss (trial value): \", trial.value)\n",
    "\n",
    "    print(\"  Params: \")\n",
    "    for key, value in trial.params.items():\n",
    "        print(\"    {}: {}\".format(key, value))"
   ]
  },
  {
   "cell_type": "code",
   "execution_count": 10,
   "id": "a6850395-52e4-4136-a0f3-2752ed89c4fe",
   "metadata": {
    "scrolled": true,
    "tags": []
   },
   "outputs": [
    {
     "name": "stderr",
     "output_type": "stream",
     "text": [
      "\u001b[32m[I 2022-04-05 16:31:36,629]\u001b[0m A new study created in memory with name: xgboost-mlflow-optuna\u001b[0m\n"
     ]
    },
    {
     "name": "stdout",
     "output_type": "stream",
     "text": [
      "\n",
      "********************************\n",
      "\n"
     ]
    },
    {
     "name": "stderr",
     "output_type": "stream",
     "text": [
      "\u001b[32m[I 2022-04-05 16:31:40,854]\u001b[0m Trial 0 finished with value: 0.5618273557645992 and parameters: {'n_estimators': 273, 'max_depth': 6, 'reg_alpha': 2.1079513592749244, 'reg_lambda': 0.44876101859322737, 'learning_rate': 0.0908627552994408, 'colsample_bytree': 0.47638423461206814, 'subsample': 0.5610745144704892}. Best is trial 0 with value: 0.5618273557645992.\u001b[0m\n"
     ]
    },
    {
     "name": "stdout",
     "output_type": "stream",
     "text": [
      "\n",
      "********************************\n",
      "\n"
     ]
    },
    {
     "name": "stderr",
     "output_type": "stream",
     "text": [
      "\u001b[32m[I 2022-04-05 16:31:43,355]\u001b[0m Trial 1 finished with value: 0.5717347066526504 and parameters: {'n_estimators': 210, 'max_depth': 5, 'reg_alpha': 1.4693844017324358, 'reg_lambda': 1.7307285538843669, 'learning_rate': 0.0536829851641225, 'colsample_bytree': 0.8230448667307504, 'subsample': 0.7054380245586303}. Best is trial 1 with value: 0.5717347066526504.\u001b[0m\n"
     ]
    },
    {
     "name": "stdout",
     "output_type": "stream",
     "text": [
      "\n",
      "********************************\n",
      "\n"
     ]
    },
    {
     "name": "stderr",
     "output_type": "stream",
     "text": [
      "\u001b[32m[I 2022-04-05 16:31:46,064]\u001b[0m Trial 2 finished with value: 0.5773112482716508 and parameters: {'n_estimators': 73, 'max_depth': 3, 'reg_alpha': 5.967426989462027, 'reg_lambda': 0.3151422531855961, 'learning_rate': 0.28212226847032085, 'colsample_bytree': 0.4079577386443055, 'subsample': 0.8585793986871587}. Best is trial 2 with value: 0.5773112482716508.\u001b[0m\n"
     ]
    },
    {
     "name": "stdout",
     "output_type": "stream",
     "text": [
      "\n",
      "********************************\n",
      "\n"
     ]
    },
    {
     "name": "stderr",
     "output_type": "stream",
     "text": [
      "\u001b[32m[I 2022-04-05 16:31:47,036]\u001b[0m Trial 3 finished with value: 0.5502646303060769 and parameters: {'n_estimators': 149, 'max_depth': 4, 'reg_alpha': 0.9905016680523764, 'reg_lambda': 0.6548523046309929, 'learning_rate': 0.28793142797827953, 'colsample_bytree': 0.560091868974048, 'subsample': 0.5503392154778108}. Best is trial 2 with value: 0.5773112482716508.\u001b[0m\n"
     ]
    },
    {
     "name": "stdout",
     "output_type": "stream",
     "text": [
      "\n",
      "********************************\n",
      "\n"
     ]
    },
    {
     "name": "stderr",
     "output_type": "stream",
     "text": [
      "\u001b[32m[I 2022-04-05 16:31:49,348]\u001b[0m Trial 4 finished with value: 0.5542917921694425 and parameters: {'n_estimators': 383, 'max_depth': 4, 'reg_alpha': 0.012260342019748238, 'reg_lambda': 0.3504156597193886, 'learning_rate': 0.11015769341386365, 'colsample_bytree': 0.8593599754114322, 'subsample': 0.8347914318202903}. Best is trial 2 with value: 0.5773112482716508.\u001b[0m\n"
     ]
    },
    {
     "name": "stdout",
     "output_type": "stream",
     "text": [
      "\n",
      "********************************\n",
      "\n"
     ]
    },
    {
     "name": "stderr",
     "output_type": "stream",
     "text": [
      "\u001b[32m[I 2022-04-05 16:31:51,502]\u001b[0m Trial 5 finished with value: 0.5341449784881481 and parameters: {'n_estimators': 304, 'max_depth': 5, 'reg_alpha': 0.28083395533601396, 'reg_lambda': 0.9439092790553723, 'learning_rate': 0.32974213098226085, 'colsample_bytree': 0.44574268062912575, 'subsample': 0.8259735297540153}. Best is trial 2 with value: 0.5773112482716508.\u001b[0m\n",
      "\u001b[32m[I 2022-04-05 16:31:51,665]\u001b[0m Trial 6 finished with value: 0.5116505049420629 and parameters: {'n_estimators': 2, 'max_depth': 3, 'reg_alpha': 3.1120106789996953, 'reg_lambda': 1.867567949870624, 'learning_rate': 0.14528888681262217, 'colsample_bytree': 0.8956026208526868, 'subsample': 0.4182157453078817}. Best is trial 2 with value: 0.5773112482716508.\u001b[0m\n"
     ]
    },
    {
     "name": "stdout",
     "output_type": "stream",
     "text": [
      "\n",
      "********************************\n",
      "\n",
      "\n",
      "********************************\n",
      "\n"
     ]
    },
    {
     "name": "stderr",
     "output_type": "stream",
     "text": [
      "\u001b[32m[I 2022-04-05 16:31:53,148]\u001b[0m Trial 7 finished with value: 0.5706724430998682 and parameters: {'n_estimators': 301, 'max_depth': 4, 'reg_alpha': 2.5265533411835777, 'reg_lambda': 1.5376557841337362, 'learning_rate': 0.17751629696866347, 'colsample_bytree': 0.4305044808928235, 'subsample': 0.8809925846003578}. Best is trial 2 with value: 0.5773112482716508.\u001b[0m\n"
     ]
    },
    {
     "name": "stdout",
     "output_type": "stream",
     "text": [
      "\n",
      "********************************\n",
      "\n"
     ]
    },
    {
     "name": "stderr",
     "output_type": "stream",
     "text": [
      "\u001b[32m[I 2022-04-05 16:31:55,519]\u001b[0m Trial 8 finished with value: 0.5655746567760681 and parameters: {'n_estimators': 385, 'max_depth': 5, 'reg_alpha': 2.405721910191554, 'reg_lambda': 1.0144241511743686, 'learning_rate': 0.0611083220078423, 'colsample_bytree': 0.44255449776866057, 'subsample': 0.5360288951161907}. Best is trial 2 with value: 0.5773112482716508.\u001b[0m\n"
     ]
    },
    {
     "name": "stdout",
     "output_type": "stream",
     "text": [
      "\n",
      "********************************\n",
      "\n"
     ]
    },
    {
     "name": "stderr",
     "output_type": "stream",
     "text": [
      "\u001b[32m[I 2022-04-05 16:31:56,587]\u001b[0m Trial 9 finished with value: 0.5403591462461373 and parameters: {'n_estimators': 197, 'max_depth': 3, 'reg_alpha': 0.5054817038623587, 'reg_lambda': 0.27198412319263543, 'learning_rate': 0.451022045958123, 'colsample_bytree': 0.6700501495952145, 'subsample': 0.45487649172109546}. Best is trial 2 with value: 0.5773112482716508.\u001b[0m\n"
     ]
    },
    {
     "name": "stdout",
     "output_type": "stream",
     "text": [
      "\n",
      "********************************\n",
      "\n"
     ]
    },
    {
     "name": "stderr",
     "output_type": "stream",
     "text": [
      "\u001b[32m[I 2022-04-05 16:31:56,981]\u001b[0m Trial 10 finished with value: 0.5808313840891687 and parameters: {'n_estimators': 42, 'max_depth': 3, 'reg_alpha': 5.778588633464602, 'reg_lambda': 0.05213173476384425, 'learning_rate': 0.2261145454158281, 'colsample_bytree': 0.6740140045868319, 'subsample': 0.7208937151682632}. Best is trial 10 with value: 0.5808313840891687.\u001b[0m\n",
      "\u001b[32m[I 2022-04-05 16:31:57,211]\u001b[0m Trial 11 finished with value: 0.5245087452840078 and parameters: {'n_estimators': 6, 'max_depth': 3, 'reg_alpha': 5.967014646839415, 'reg_lambda': 0.0442144620639331, 'learning_rate': 0.2370389335000353, 'colsample_bytree': 0.6769997824780714, 'subsample': 0.7024546609192069}. Best is trial 10 with value: 0.5808313840891687.\u001b[0m\n"
     ]
    },
    {
     "name": "stdout",
     "output_type": "stream",
     "text": [
      "\n",
      "********************************\n",
      "\n",
      "\n",
      "********************************\n",
      "\n"
     ]
    },
    {
     "name": "stderr",
     "output_type": "stream",
     "text": [
      "\u001b[32m[I 2022-04-05 16:31:57,956]\u001b[0m Trial 12 finished with value: 0.5858816802215198 and parameters: {'n_estimators': 100, 'max_depth': 3, 'reg_alpha': 5.845068187013254, 'reg_lambda': 0.004169526408755127, 'learning_rate': 0.20099103343772748, 'colsample_bytree': 0.7718694172321184, 'subsample': 0.7640082856421953}. Best is trial 12 with value: 0.5858816802215198.\u001b[0m\n"
     ]
    },
    {
     "name": "stdout",
     "output_type": "stream",
     "text": [
      "\n",
      "********************************\n",
      "\n"
     ]
    },
    {
     "name": "stderr",
     "output_type": "stream",
     "text": [
      "\u001b[32m[I 2022-04-05 16:31:59,041]\u001b[0m Trial 13 finished with value: 0.5807054081626114 and parameters: {'n_estimators': 107, 'max_depth': 3, 'reg_alpha': 4.672218473612991, 'reg_lambda': 0.007238838535673198, 'learning_rate': 0.18374726519110426, 'colsample_bytree': 0.7717255192681955, 'subsample': 0.7518465417867953}. Best is trial 12 with value: 0.5858816802215198.\u001b[0m\n"
     ]
    },
    {
     "name": "stdout",
     "output_type": "stream",
     "text": [
      "\n",
      "********************************\n",
      "\n"
     ]
    },
    {
     "name": "stderr",
     "output_type": "stream",
     "text": [
      "\u001b[32m[I 2022-04-05 16:32:02,783]\u001b[0m Trial 14 finished with value: 0.5684592340877102 and parameters: {'n_estimators': 488, 'max_depth': 4, 'reg_alpha': 4.544149049954499, 'reg_lambda': 0.7306513771616356, 'learning_rate': 0.14959322741836265, 'colsample_bytree': 0.7533647882076819, 'subsample': 0.6326115351170138}. Best is trial 12 with value: 0.5858816802215198.\u001b[0m\n"
     ]
    },
    {
     "name": "stdout",
     "output_type": "stream",
     "text": [
      "\n",
      "********************************\n",
      "\n"
     ]
    },
    {
     "name": "stderr",
     "output_type": "stream",
     "text": [
      "\u001b[32m[I 2022-04-05 16:32:03,548]\u001b[0m Trial 15 finished with value: 0.5648323467979389 and parameters: {'n_estimators': 76, 'max_depth': 6, 'reg_alpha': 4.868918161070427, 'reg_lambda': 0.030005337370500595, 'learning_rate': 0.47583589182502434, 'colsample_bytree': 0.5926801611419569, 'subsample': 0.7718175313294887}. Best is trial 12 with value: 0.5858816802215198.\u001b[0m\n"
     ]
    },
    {
     "name": "stdout",
     "output_type": "stream",
     "text": [
      "\n",
      "********************************\n",
      "\n"
     ]
    },
    {
     "name": "stderr",
     "output_type": "stream",
     "text": [
      "\u001b[32m[I 2022-04-05 16:32:04,185]\u001b[0m Trial 16 finished with value: 0.5856756714017225 and parameters: {'n_estimators': 111, 'max_depth': 3, 'reg_alpha': 3.89764740497455, 'reg_lambda': 1.2512857553642243, 'learning_rate': 0.21799903051304997, 'colsample_bytree': 0.7309099089983105, 'subsample': 0.6544248224173884}. Best is trial 12 with value: 0.5858816802215198.\u001b[0m\n"
     ]
    },
    {
     "name": "stdout",
     "output_type": "stream",
     "text": [
      "\n",
      "********************************\n",
      "\n"
     ]
    },
    {
     "name": "stderr",
     "output_type": "stream",
     "text": [
      "\u001b[32m[I 2022-04-05 16:32:05,228]\u001b[0m Trial 17 finished with value: 0.5753762568316684 and parameters: {'n_estimators': 148, 'max_depth': 4, 'reg_alpha': 3.7404446147406554, 'reg_lambda': 1.3606909276198058, 'learning_rate': 0.1143372225066119, 'colsample_bytree': 0.753632667494541, 'subsample': 0.6260417624497285}. Best is trial 12 with value: 0.5858816802215198.\u001b[0m\n"
     ]
    },
    {
     "name": "stdout",
     "output_type": "stream",
     "text": [
      "\n",
      "********************************\n",
      "\n"
     ]
    },
    {
     "name": "stderr",
     "output_type": "stream",
     "text": [
      "\u001b[32m[I 2022-04-05 16:32:06,137]\u001b[0m Trial 18 finished with value: 0.5692573979907127 and parameters: {'n_estimators': 171, 'max_depth': 3, 'reg_alpha': 3.9871269362270443, 'reg_lambda': 1.3069997377790665, 'learning_rate': 0.36050844165881574, 'colsample_bytree': 0.8040292383778841, 'subsample': 0.7872556766855602}. Best is trial 12 with value: 0.5858816802215198.\u001b[0m\n"
     ]
    },
    {
     "name": "stdout",
     "output_type": "stream",
     "text": [
      "\n",
      "********************************\n",
      "\n"
     ]
    },
    {
     "name": "stderr",
     "output_type": "stream",
     "text": [
      "\u001b[32m[I 2022-04-05 16:32:06,934]\u001b[0m Trial 19 finished with value: 0.5711265516328609 and parameters: {'n_estimators': 115, 'max_depth': 4, 'reg_alpha': 5.251551315452708, 'reg_lambda': 1.0635227338977193, 'learning_rate': 0.20853773384324398, 'colsample_bytree': 0.7096150031043763, 'subsample': 0.6565597827760027}. Best is trial 12 with value: 0.5858816802215198.\u001b[0m\n"
     ]
    },
    {
     "name": "stdout",
     "output_type": "stream",
     "text": [
      "\n",
      "********************************\n",
      "\n"
     ]
    },
    {
     "name": "stderr",
     "output_type": "stream",
     "text": [
      "\u001b[32m[I 2022-04-05 16:32:07,959]\u001b[0m Trial 20 finished with value: 0.583220727686269 and parameters: {'n_estimators': 230, 'max_depth': 3, 'reg_alpha': 3.559623840579934, 'reg_lambda': 1.2621778493156128, 'learning_rate': 0.08021423653932126, 'colsample_bytree': 0.5806638515327063, 'subsample': 0.6801904861282092}. Best is trial 12 with value: 0.5858816802215198.\u001b[0m\n"
     ]
    },
    {
     "name": "stdout",
     "output_type": "stream",
     "text": [
      "\n",
      "********************************\n",
      "\n"
     ]
    },
    {
     "name": "stderr",
     "output_type": "stream",
     "text": [
      "\u001b[32m[I 2022-04-05 16:32:09,062]\u001b[0m Trial 21 finished with value: 0.5789629123865093 and parameters: {'n_estimators': 241, 'max_depth': 3, 'reg_alpha': 3.477417716335556, 'reg_lambda': 1.2504916375440551, 'learning_rate': 0.0796228898699301, 'colsample_bytree': 0.6022375702722799, 'subsample': 0.6130386515982971}. Best is trial 12 with value: 0.5858816802215198.\u001b[0m\n"
     ]
    },
    {
     "name": "stdout",
     "output_type": "stream",
     "text": [
      "\n",
      "********************************\n",
      "\n"
     ]
    },
    {
     "name": "stderr",
     "output_type": "stream",
     "text": [
      "\u001b[32m[I 2022-04-05 16:32:09,608]\u001b[0m Trial 22 finished with value: 0.5865541929849689 and parameters: {'n_estimators': 107, 'max_depth': 3, 'reg_alpha': 4.235026907804887, 'reg_lambda': 1.5723357305838792, 'learning_rate': 0.11290530686829141, 'colsample_bytree': 0.5325502774413992, 'subsample': 0.6719235663907084}. Best is trial 22 with value: 0.5865541929849689.\u001b[0m\n"
     ]
    },
    {
     "name": "stdout",
     "output_type": "stream",
     "text": [
      "\n",
      "********************************\n",
      "\n"
     ]
    },
    {
     "name": "stderr",
     "output_type": "stream",
     "text": [
      "\u001b[32m[I 2022-04-05 16:32:10,107]\u001b[0m Trial 23 finished with value: 0.5818114362084262 and parameters: {'n_estimators': 92, 'max_depth': 3, 'reg_alpha': 4.325125439729681, 'reg_lambda': 1.563553453954709, 'learning_rate': 0.12355376332003166, 'colsample_bytree': 0.5290257405420877, 'subsample': 0.7399411668324742}. Best is trial 22 with value: 0.5865541929849689.\u001b[0m\n"
     ]
    },
    {
     "name": "stdout",
     "output_type": "stream",
     "text": [
      "\n",
      "********************************\n",
      "\n"
     ]
    },
    {
     "name": "stderr",
     "output_type": "stream",
     "text": [
      "\u001b[32m[I 2022-04-05 16:32:10,989]\u001b[0m Trial 24 finished with value: 0.5701338561298833 and parameters: {'n_estimators': 134, 'max_depth': 4, 'reg_alpha': 5.108588031217767, 'reg_lambda': 1.9431418880003615, 'learning_rate': 0.16621242207506776, 'colsample_bytree': 0.7232441051758747, 'subsample': 0.5919434486643216}. Best is trial 22 with value: 0.5865541929849689.\u001b[0m\n"
     ]
    },
    {
     "name": "stdout",
     "output_type": "stream",
     "text": [
      "\n",
      "********************************\n",
      "\n"
     ]
    },
    {
     "name": "stderr",
     "output_type": "stream",
     "text": [
      "\u001b[32m[I 2022-04-05 16:32:11,328]\u001b[0m Trial 25 finished with value: 0.5737631234800343 and parameters: {'n_estimators': 47, 'max_depth': 3, 'reg_alpha': 5.423961117284092, 'reg_lambda': 1.6361642803610634, 'learning_rate': 0.1408655301383657, 'colsample_bytree': 0.6287687812416941, 'subsample': 0.8054539290890885}. Best is trial 22 with value: 0.5865541929849689.\u001b[0m\n"
     ]
    },
    {
     "name": "stdout",
     "output_type": "stream",
     "text": [
      "\n",
      "********************************\n",
      "\n"
     ]
    },
    {
     "name": "stderr",
     "output_type": "stream",
     "text": [
      "\u001b[32m[I 2022-04-05 16:32:12,260]\u001b[0m Trial 26 finished with value: 0.5709151907623755 and parameters: {'n_estimators': 170, 'max_depth': 4, 'reg_alpha': 3.976644799258611, 'reg_lambda': 0.778298772969911, 'learning_rate': 0.21301247712399127, 'colsample_bytree': 0.5074465985231826, 'subsample': 0.6613400405980038}. Best is trial 22 with value: 0.5865541929849689.\u001b[0m\n"
     ]
    },
    {
     "name": "stdout",
     "output_type": "stream",
     "text": [
      "\n",
      "********************************\n",
      "\n"
     ]
    },
    {
     "name": "stderr",
     "output_type": "stream",
     "text": [
      "\u001b[32m[I 2022-04-05 16:32:12,614]\u001b[0m Trial 27 finished with value: 0.5755787210309081 and parameters: {'n_estimators': 30, 'max_depth': 3, 'reg_alpha': 2.836258280852028, 'reg_lambda': 1.4422174476383816, 'learning_rate': 0.2760250341368282, 'colsample_bytree': 0.7920017634615684, 'subsample': 0.4801014348064897}. Best is trial 22 with value: 0.5865541929849689.\u001b[0m\n"
     ]
    },
    {
     "name": "stdout",
     "output_type": "stream",
     "text": [
      "\n",
      "********************************\n",
      "\n"
     ]
    },
    {
     "name": "stderr",
     "output_type": "stream",
     "text": [
      "\u001b[32m[I 2022-04-05 16:32:13,372]\u001b[0m Trial 28 finished with value: 0.5794238039340369 and parameters: {'n_estimators': 67, 'max_depth': 5, 'reg_alpha': 3.1597047254975648, 'reg_lambda': 1.12407748077168, 'learning_rate': 0.13005219153781444, 'colsample_bytree': 0.8441559253699775, 'subsample': 0.687345665816487}. Best is trial 22 with value: 0.5865541929849689.\u001b[0m\n"
     ]
    },
    {
     "name": "stdout",
     "output_type": "stream",
     "text": [
      "\n",
      "********************************\n",
      "\n"
     ]
    },
    {
     "name": "stderr",
     "output_type": "stream",
     "text": [
      "\u001b[32m[I 2022-04-05 16:32:16,042]\u001b[0m Trial 29 finished with value: 0.5611068635359031 and parameters: {'n_estimators': 260, 'max_depth': 6, 'reg_alpha': 2.0507171085510145, 'reg_lambda': 1.775221713207262, 'learning_rate': 0.09547697927696733, 'colsample_bytree': 0.7213247843630316, 'subsample': 0.591008420310265}. Best is trial 22 with value: 0.5865541929849689.\u001b[0m\n"
     ]
    },
    {
     "name": "stdout",
     "output_type": "stream",
     "text": [
      "\n",
      "********************************\n",
      "\n"
     ]
    },
    {
     "name": "stderr",
     "output_type": "stream",
     "text": [
      "\u001b[32m[I 2022-04-05 16:32:16,986]\u001b[0m Trial 30 finished with value: 0.587959924306742 and parameters: {'n_estimators': 186, 'max_depth': 3, 'reg_alpha': 4.264925765715912, 'reg_lambda': 1.1552136026096238, 'learning_rate': 0.09544177572663988, 'colsample_bytree': 0.6383259532921363, 'subsample': 0.7480050633488734}. Best is trial 30 with value: 0.587959924306742.\u001b[0m\n"
     ]
    },
    {
     "name": "stdout",
     "output_type": "stream",
     "text": [
      "\n",
      "********************************\n",
      "\n"
     ]
    },
    {
     "name": "stderr",
     "output_type": "stream",
     "text": [
      "\u001b[32m[I 2022-04-05 16:32:17,617]\u001b[0m Trial 31 finished with value: 0.5800029016826715 and parameters: {'n_estimators': 117, 'max_depth': 3, 'reg_alpha': 4.26044363245761, 'reg_lambda': 0.8730857682264956, 'learning_rate': 0.09664262236807936, 'colsample_bytree': 0.6346233612189524, 'subsample': 0.7422403916109918}. Best is trial 30 with value: 0.587959924306742.\u001b[0m\n"
     ]
    },
    {
     "name": "stdout",
     "output_type": "stream",
     "text": [
      "\n",
      "********************************\n",
      "\n"
     ]
    },
    {
     "name": "stderr",
     "output_type": "stream",
     "text": [
      "\u001b[32m[I 2022-04-05 16:32:18,478]\u001b[0m Trial 32 finished with value: 0.5869839533870117 and parameters: {'n_estimators': 197, 'max_depth': 3, 'reg_alpha': 5.449514917769941, 'reg_lambda': 0.5335111054170384, 'learning_rate': 0.06980486531459362, 'colsample_bytree': 0.48681706333890207, 'subsample': 0.7739428864354672}. Best is trial 30 with value: 0.587959924306742.\u001b[0m\n"
     ]
    },
    {
     "name": "stdout",
     "output_type": "stream",
     "text": [
      "\n",
      "********************************\n",
      "\n"
     ]
    },
    {
     "name": "stderr",
     "output_type": "stream",
     "text": [
      "\u001b[32m[I 2022-04-05 16:32:19,291]\u001b[0m Trial 33 finished with value: 0.5856254190883003 and parameters: {'n_estimators': 193, 'max_depth': 3, 'reg_alpha': 5.5508437734764975, 'reg_lambda': 0.4945370914461948, 'learning_rate': 0.06388445255630527, 'colsample_bytree': 0.497318193392065, 'subsample': 0.781774233370465}. Best is trial 30 with value: 0.587959924306742.\u001b[0m\n"
     ]
    },
    {
     "name": "stdout",
     "output_type": "stream",
     "text": [
      "\n",
      "********************************\n",
      "\n"
     ]
    },
    {
     "name": "stderr",
     "output_type": "stream",
     "text": [
      "\u001b[32m[I 2022-04-05 16:32:20,222]\u001b[0m Trial 34 finished with value: 0.5844558533421814 and parameters: {'n_estimators': 221, 'max_depth': 3, 'reg_alpha': 4.950149888264477, 'reg_lambda': 0.5397283158836768, 'learning_rate': 0.0776176128996776, 'colsample_bytree': 0.46873755946247775, 'subsample': 0.8178678897884998}. Best is trial 30 with value: 0.587959924306742.\u001b[0m\n"
     ]
    },
    {
     "name": "stdout",
     "output_type": "stream",
     "text": [
      "\n",
      "********************************\n",
      "\n"
     ]
    },
    {
     "name": "stderr",
     "output_type": "stream",
     "text": [
      "\u001b[32m[I 2022-04-05 16:32:21,112]\u001b[0m Trial 35 finished with value: 0.5789062913782015 and parameters: {'n_estimators': 163, 'max_depth': 4, 'reg_alpha': 5.304469008248307, 'reg_lambda': 0.6030713851869266, 'learning_rate': 0.05129847056370094, 'colsample_bytree': 0.5338843304240399, 'subsample': 0.8609185506997264}. Best is trial 30 with value: 0.587959924306742.\u001b[0m\n"
     ]
    },
    {
     "name": "stdout",
     "output_type": "stream",
     "text": [
      "\n",
      "********************************\n",
      "\n"
     ]
    },
    {
     "name": "stderr",
     "output_type": "stream",
     "text": [
      "\u001b[32m[I 2022-04-05 16:32:22,289]\u001b[0m Trial 36 finished with value: 0.5807455450808064 and parameters: {'n_estimators': 289, 'max_depth': 3, 'reg_alpha': 5.702403385551908, 'reg_lambda': 0.2299775060956658, 'learning_rate': 0.06590745818518787, 'colsample_bytree': 0.47926875458171136, 'subsample': 0.7188328116346808}. Best is trial 30 with value: 0.587959924306742.\u001b[0m\n"
     ]
    },
    {
     "name": "stdout",
     "output_type": "stream",
     "text": [
      "\n",
      "********************************\n",
      "\n"
     ]
    },
    {
     "name": "stderr",
     "output_type": "stream",
     "text": [
      "\u001b[32m[I 2022-04-05 16:32:24,307]\u001b[0m Trial 37 finished with value: 0.5734524229349797 and parameters: {'n_estimators': 331, 'max_depth': 4, 'reg_alpha': 4.622307504052829, 'reg_lambda': 0.4485991564899203, 'learning_rate': 0.11152548904235969, 'colsample_bytree': 0.5305571950004184, 'subsample': 0.7603321177269113}. Best is trial 30 with value: 0.587959924306742.\u001b[0m\n"
     ]
    },
    {
     "name": "stdout",
     "output_type": "stream",
     "text": [
      "\n",
      "********************************\n",
      "\n"
     ]
    },
    {
     "name": "stderr",
     "output_type": "stream",
     "text": [
      "\u001b[32m[I 2022-04-05 16:32:25,338]\u001b[0m Trial 38 finished with value: 0.5816852273572314 and parameters: {'n_estimators': 198, 'max_depth': 3, 'reg_alpha': 1.4067306002967421, 'reg_lambda': 0.21607430506127973, 'learning_rate': 0.0892699786480544, 'colsample_bytree': 0.4070340234583548, 'subsample': 0.8522362367551937}. Best is trial 30 with value: 0.587959924306742.\u001b[0m\n"
     ]
    },
    {
     "name": "stdout",
     "output_type": "stream",
     "text": [
      "\n",
      "********************************\n",
      "\n"
     ]
    },
    {
     "name": "stderr",
     "output_type": "stream",
     "text": [
      "\u001b[32m[I 2022-04-05 16:32:26,275]\u001b[0m Trial 39 finished with value: 0.573047619047619 and parameters: {'n_estimators': 131, 'max_depth': 4, 'reg_alpha': 4.9498222910433185, 'reg_lambda': 0.3943704625439777, 'learning_rate': 0.0737842935233647, 'colsample_bytree': 0.56184088861015, 'subsample': 0.7953850125990934}. Best is trial 30 with value: 0.587959924306742.\u001b[0m\n"
     ]
    },
    {
     "name": "stdout",
     "output_type": "stream",
     "text": [
      "\n",
      "********************************\n",
      "\n"
     ]
    },
    {
     "name": "stderr",
     "output_type": "stream",
     "text": [
      "\u001b[32m[I 2022-04-05 16:32:26,915]\u001b[0m Trial 40 finished with value: 0.5806931925530314 and parameters: {'n_estimators': 86, 'max_depth': 3, 'reg_alpha': 4.3183295039148835, 'reg_lambda': 0.9143239838001093, 'learning_rate': 0.057899685070696386, 'colsample_bytree': 0.6205112277551552, 'subsample': 0.6897380897849379}. Best is trial 30 with value: 0.587959924306742.\u001b[0m\n"
     ]
    },
    {
     "name": "stdout",
     "output_type": "stream",
     "text": [
      "\n",
      "********************************\n",
      "\n"
     ]
    },
    {
     "name": "stderr",
     "output_type": "stream",
     "text": [
      "\u001b[32m[I 2022-04-05 16:32:27,904]\u001b[0m Trial 41 finished with value: 0.570577034282424 and parameters: {'n_estimators': 174, 'max_depth': 3, 'reg_alpha': 3.9497553165257693, 'reg_lambda': 1.1306376659506554, 'learning_rate': 0.2621057476196203, 'colsample_bytree': 0.6908409683959523, 'subsample': 0.6680554816117837}. Best is trial 30 with value: 0.587959924306742.\u001b[0m\n"
     ]
    },
    {
     "name": "stdout",
     "output_type": "stream",
     "text": [
      "\n",
      "********************************\n",
      "\n"
     ]
    },
    {
     "name": "stderr",
     "output_type": "stream",
     "text": [
      "\u001b[32m[I 2022-04-05 16:32:28,736]\u001b[0m Trial 42 finished with value: 0.5783925759399398 and parameters: {'n_estimators': 139, 'max_depth': 3, 'reg_alpha': 3.3911697138045316, 'reg_lambda': 1.447197306258579, 'learning_rate': 0.1816803211310862, 'colsample_bytree': 0.7523892566253135, 'subsample': 0.7361515384167288}. Best is trial 30 with value: 0.587959924306742.\u001b[0m\n"
     ]
    },
    {
     "name": "stdout",
     "output_type": "stream",
     "text": [
      "\n",
      "********************************\n",
      "\n"
     ]
    },
    {
     "name": "stderr",
     "output_type": "stream",
     "text": [
      "\u001b[32m[I 2022-04-05 16:32:29,408]\u001b[0m Trial 43 finished with value: 0.5771043678628069 and parameters: {'n_estimators': 97, 'max_depth': 3, 'reg_alpha': 5.826082116124662, 'reg_lambda': 1.1570625315682155, 'learning_rate': 0.3171736083827917, 'colsample_bytree': 0.8761525476742136, 'subsample': 0.7120984229984788}. Best is trial 30 with value: 0.587959924306742.\u001b[0m\n"
     ]
    },
    {
     "name": "stdout",
     "output_type": "stream",
     "text": [
      "\n",
      "********************************\n",
      "\n"
     ]
    },
    {
     "name": "stderr",
     "output_type": "stream",
     "text": [
      "\u001b[32m[I 2022-04-05 16:32:29,819]\u001b[0m Trial 44 finished with value: 0.5710750662853066 and parameters: {'n_estimators': 56, 'max_depth': 3, 'reg_alpha': 2.8418735740663714, 'reg_lambda': 0.7946002249717312, 'learning_rate': 0.08863253765183404, 'colsample_bytree': 0.6560714287448954, 'subsample': 0.838540316992436}. Best is trial 30 with value: 0.587959924306742.\u001b[0m\n"
     ]
    },
    {
     "name": "stdout",
     "output_type": "stream",
     "text": [
      "\n",
      "********************************\n",
      "\n"
     ]
    },
    {
     "name": "stderr",
     "output_type": "stream",
     "text": [
      "\u001b[32m[I 2022-04-05 16:32:30,111]\u001b[0m Trial 45 finished with value: 0.5341260416367873 and parameters: {'n_estimators': 24, 'max_depth': 3, 'reg_alpha': 5.581309916221267, 'reg_lambda': 1.7017520302876337, 'learning_rate': 0.10068513529401377, 'colsample_bytree': 0.822833199349399, 'subsample': 0.8884985742116458}. Best is trial 30 with value: 0.587959924306742.\u001b[0m\n"
     ]
    },
    {
     "name": "stdout",
     "output_type": "stream",
     "text": [
      "\n",
      "********************************\n",
      "\n"
     ]
    },
    {
     "name": "stderr",
     "output_type": "stream",
     "text": [
      "\u001b[32m[I 2022-04-05 16:32:31,212]\u001b[0m Trial 46 finished with value: 0.5825577066458479 and parameters: {'n_estimators': 210, 'max_depth': 3, 'reg_alpha': 4.678707847559334, 'reg_lambda': 0.17160980655434876, 'learning_rate': 0.19429729317811617, 'colsample_bytree': 0.44026988048117305, 'subsample': 0.5479808120490672}. Best is trial 30 with value: 0.587959924306742.\u001b[0m\n"
     ]
    },
    {
     "name": "stdout",
     "output_type": "stream",
     "text": [
      "\n",
      "********************************\n",
      "\n"
     ]
    },
    {
     "name": "stderr",
     "output_type": "stream",
     "text": [
      "\u001b[32m[I 2022-04-05 16:32:32,365]\u001b[0m Trial 47 finished with value: 0.5759727941655596 and parameters: {'n_estimators': 155, 'max_depth': 4, 'reg_alpha': 4.2012585252996155, 'reg_lambda': 1.3976512363936329, 'learning_rate': 0.24469338449699654, 'colsample_bytree': 0.5693460396011809, 'subsample': 0.6391697594575226}. Best is trial 30 with value: 0.587959924306742.\u001b[0m\n"
     ]
    },
    {
     "name": "stdout",
     "output_type": "stream",
     "text": [
      "\n",
      "********************************\n",
      "\n"
     ]
    },
    {
     "name": "stderr",
     "output_type": "stream",
     "text": [
      "\u001b[32m[I 2022-04-05 16:32:33,617]\u001b[0m Trial 48 finished with value: 0.5735747427771001 and parameters: {'n_estimators': 188, 'max_depth': 5, 'reg_alpha': 3.8029689517635594, 'reg_lambda': 0.9905200786313375, 'learning_rate': 0.15631477402797617, 'colsample_bytree': 0.4618655786356074, 'subsample': 0.5187340702217473}. Best is trial 30 with value: 0.587959924306742.\u001b[0m\n"
     ]
    },
    {
     "name": "stdout",
     "output_type": "stream",
     "text": [
      "\n",
      "********************************\n",
      "\n"
     ]
    },
    {
     "name": "stderr",
     "output_type": "stream",
     "text": [
      "\u001b[32m[I 2022-04-05 16:32:36,066]\u001b[0m Trial 49 finished with value: 0.5759691085622306 and parameters: {'n_estimators': 485, 'max_depth': 3, 'reg_alpha': 5.081821429380152, 'reg_lambda': 0.6664665042276321, 'learning_rate': 0.12215610797979279, 'colsample_bytree': 0.700740098054085, 'subsample': 0.7716967641836585}. Best is trial 30 with value: 0.587959924306742.\u001b[0m\n"
     ]
    },
    {
     "name": "stdout",
     "output_type": "stream",
     "text": [
      "\n",
      "********************************\n",
      "\n"
     ]
    },
    {
     "name": "stderr",
     "output_type": "stream",
     "text": [
      "\u001b[32m[I 2022-04-05 16:32:36,822]\u001b[0m Trial 50 finished with value: 0.5827826545629408 and parameters: {'n_estimators': 116, 'max_depth': 3, 'reg_alpha': 4.487193474489206, 'reg_lambda': 0.13032392106818136, 'learning_rate': 0.13662331837813524, 'colsample_bytree': 0.7430493936058427, 'subsample': 0.6041752963642972}. Best is trial 30 with value: 0.587959924306742.\u001b[0m\n"
     ]
    },
    {
     "name": "stdout",
     "output_type": "stream",
     "text": [
      "\n",
      "********************************\n",
      "\n"
     ]
    },
    {
     "name": "stderr",
     "output_type": "stream",
     "text": [
      "\u001b[32m[I 2022-04-05 16:32:37,907]\u001b[0m Trial 51 finished with value: 0.5826750596199837 and parameters: {'n_estimators': 258, 'max_depth': 3, 'reg_alpha': 5.984515225614125, 'reg_lambda': 0.3350129701255986, 'learning_rate': 0.0683504432426204, 'colsample_bytree': 0.4938128029146985, 'subsample': 0.7711336561380541}. Best is trial 30 with value: 0.587959924306742.\u001b[0m\n"
     ]
    },
    {
     "name": "stdout",
     "output_type": "stream",
     "text": [
      "\n",
      "********************************\n",
      "\n"
     ]
    },
    {
     "name": "stderr",
     "output_type": "stream",
     "text": [
      "\u001b[32m[I 2022-04-05 16:32:38,786]\u001b[0m Trial 52 finished with value: 0.5826379839349123 and parameters: {'n_estimators': 210, 'max_depth': 3, 'reg_alpha': 5.5044417774513015, 'reg_lambda': 0.572649004748473, 'learning_rate': 0.05944084805832885, 'colsample_bytree': 0.5097490804151192, 'subsample': 0.7916642692103233}. Best is trial 30 with value: 0.587959924306742.\u001b[0m\n"
     ]
    },
    {
     "name": "stdout",
     "output_type": "stream",
     "text": [
      "\n",
      "********************************\n",
      "\n"
     ]
    },
    {
     "name": "stderr",
     "output_type": "stream",
     "text": [
      "\u001b[32m[I 2022-04-05 16:32:39,646]\u001b[0m Trial 53 finished with value: 0.5782057672660389 and parameters: {'n_estimators': 191, 'max_depth': 3, 'reg_alpha': 5.33097558393785, 'reg_lambda': 0.49712969363042303, 'learning_rate': 0.06864904659430851, 'colsample_bytree': 0.5457832778251481, 'subsample': 0.7283656477470233}. Best is trial 30 with value: 0.587959924306742.\u001b[0m\n"
     ]
    },
    {
     "name": "stdout",
     "output_type": "stream",
     "text": [
      "\n",
      "********************************\n",
      "\n"
     ]
    },
    {
     "name": "stderr",
     "output_type": "stream",
     "text": [
      "\u001b[32m[I 2022-04-05 16:32:40,121]\u001b[0m Trial 54 finished with value: 0.5697970753098691 and parameters: {'n_estimators': 73, 'max_depth': 3, 'reg_alpha': 5.646884700873981, 'reg_lambda': 1.5391709115786647, 'learning_rate': 0.05710603861363141, 'colsample_bytree': 0.4978252318849691, 'subsample': 0.6954929090996749}. Best is trial 30 with value: 0.587959924306742.\u001b[0m\n"
     ]
    },
    {
     "name": "stdout",
     "output_type": "stream",
     "text": [
      "\n",
      "********************************\n",
      "\n"
     ]
    },
    {
     "name": "stderr",
     "output_type": "stream",
     "text": [
      "\u001b[32m[I 2022-04-05 16:32:41,557]\u001b[0m Trial 55 finished with value: 0.5730934017099262 and parameters: {'n_estimators': 235, 'max_depth': 3, 'reg_alpha': 4.719888412653493, 'reg_lambda': 1.1929158000564133, 'learning_rate': 0.17023429734666273, 'colsample_bytree': 0.7738938968299145, 'subsample': 0.8187121674242519}. Best is trial 30 with value: 0.587959924306742.\u001b[0m\n"
     ]
    },
    {
     "name": "stdout",
     "output_type": "stream",
     "text": [
      "\n",
      "********************************\n",
      "\n"
     ]
    },
    {
     "name": "stderr",
     "output_type": "stream",
     "text": [
      "\u001b[32m[I 2022-04-05 16:32:42,794]\u001b[0m Trial 56 finished with value: 0.5809297808205071 and parameters: {'n_estimators': 151, 'max_depth': 3, 'reg_alpha': 5.19117194300051, 'reg_lambda': 1.0605888379555455, 'learning_rate': 0.08495184839330014, 'colsample_bytree': 0.4573029657004687, 'subsample': 0.7606588346612222}. Best is trial 30 with value: 0.587959924306742.\u001b[0m\n"
     ]
    },
    {
     "name": "stdout",
     "output_type": "stream",
     "text": [
      "\n",
      "********************************\n",
      "\n"
     ]
    },
    {
     "name": "stderr",
     "output_type": "stream",
     "text": [
      "\u001b[32m[I 2022-04-05 16:32:45,273]\u001b[0m Trial 57 finished with value: 0.5781847682013126 and parameters: {'n_estimators': 322, 'max_depth': 4, 'reg_alpha': 4.849271425834782, 'reg_lambda': 0.8439206182011842, 'learning_rate': 0.10188946404155017, 'colsample_bytree': 0.5994065369172366, 'subsample': 0.7824228763885395}. Best is trial 30 with value: 0.587959924306742.\u001b[0m\n"
     ]
    },
    {
     "name": "stdout",
     "output_type": "stream",
     "text": [
      "\n",
      "********************************\n",
      "\n"
     ]
    },
    {
     "name": "stderr",
     "output_type": "stream",
     "text": [
      "\u001b[32m[I 2022-04-05 16:32:46,005]\u001b[0m Trial 58 finished with value: 0.5784425945446219 and parameters: {'n_estimators': 129, 'max_depth': 3, 'reg_alpha': 5.901307976073238, 'reg_lambda': 1.3219910286050969, 'learning_rate': 0.06336651927147284, 'colsample_bytree': 0.42417308423575084, 'subsample': 0.6473900730976685}. Best is trial 30 with value: 0.587959924306742.\u001b[0m\n"
     ]
    },
    {
     "name": "stdout",
     "output_type": "stream",
     "text": [
      "\n",
      "********************************\n",
      "\n"
     ]
    },
    {
     "name": "stderr",
     "output_type": "stream",
     "text": [
      "\u001b[32m[I 2022-04-05 16:32:46,898]\u001b[0m Trial 59 finished with value: 0.5771991587605562 and parameters: {'n_estimators': 103, 'max_depth': 3, 'reg_alpha': 4.0860519452410236, 'reg_lambda': 0.08911758596731967, 'learning_rate': 0.3939601030150494, 'colsample_bytree': 0.789533729618582, 'subsample': 0.6748290539860373}. Best is trial 30 with value: 0.587959924306742.\u001b[0m\n"
     ]
    },
    {
     "name": "stdout",
     "output_type": "stream",
     "text": [
      "\n",
      "********************************\n",
      "\n"
     ]
    },
    {
     "name": "stderr",
     "output_type": "stream",
     "text": [
      "\u001b[32m[I 2022-04-05 16:32:48,902]\u001b[0m Trial 60 finished with value: 0.5513586313345594 and parameters: {'n_estimators': 180, 'max_depth': 6, 'reg_alpha': 3.250153617782374, 'reg_lambda': 1.2355578639488665, 'learning_rate': 0.20047635286078558, 'colsample_bytree': 0.6527763340092697, 'subsample': 0.7055546631370069}. Best is trial 30 with value: 0.587959924306742.\u001b[0m\n"
     ]
    },
    {
     "name": "stdout",
     "output_type": "stream",
     "text": [
      "\n",
      "********************************\n",
      "\n"
     ]
    },
    {
     "name": "stderr",
     "output_type": "stream",
     "text": [
      "\u001b[32m[I 2022-04-05 16:32:49,895]\u001b[0m Trial 61 finished with value: 0.5824065091740335 and parameters: {'n_estimators': 215, 'max_depth': 3, 'reg_alpha': 4.956130284509237, 'reg_lambda': 0.5002867492749925, 'learning_rate': 0.07652188982827621, 'colsample_bytree': 0.47362538703317786, 'subsample': 0.8277306760666858}. Best is trial 30 with value: 0.587959924306742.\u001b[0m\n"
     ]
    },
    {
     "name": "stdout",
     "output_type": "stream",
     "text": [
      "\n",
      "********************************\n",
      "\n"
     ]
    },
    {
     "name": "stderr",
     "output_type": "stream",
     "text": [
      "\u001b[32m[I 2022-04-05 16:32:51,198]\u001b[0m Trial 62 finished with value: 0.582709716329547 and parameters: {'n_estimators': 278, 'max_depth': 3, 'reg_alpha': 3.684755434064929, 'reg_lambda': 0.7066256423088086, 'learning_rate': 0.07255674055561614, 'colsample_bytree': 0.5135817680021824, 'subsample': 0.8027523702794171}. Best is trial 30 with value: 0.587959924306742.\u001b[0m\n"
     ]
    },
    {
     "name": "stdout",
     "output_type": "stream",
     "text": [
      "\n",
      "********************************\n",
      "\n"
     ]
    },
    {
     "name": "stderr",
     "output_type": "stream",
     "text": [
      "\u001b[32m[I 2022-04-05 16:32:52,189]\u001b[0m Trial 63 finished with value: 0.5739298619590798 and parameters: {'n_estimators': 226, 'max_depth': 3, 'reg_alpha': 4.413565792193222, 'reg_lambda': 0.3899460023996208, 'learning_rate': 0.22647437819488936, 'colsample_bytree': 0.4209726640917464, 'subsample': 0.8711623455104808}. Best is trial 30 with value: 0.587959924306742.\u001b[0m\n"
     ]
    },
    {
     "name": "stdout",
     "output_type": "stream",
     "text": [
      "\n",
      "********************************\n",
      "\n"
     ]
    },
    {
     "name": "stderr",
     "output_type": "stream",
     "text": [
      "\u001b[32m[I 2022-04-05 16:32:53,313]\u001b[0m Trial 64 finished with value: 0.583653475384417 and parameters: {'n_estimators': 244, 'max_depth': 3, 'reg_alpha': 5.531789649776454, 'reg_lambda': 0.5586419962140089, 'learning_rate': 0.08407163644245602, 'colsample_bytree': 0.485731950420263, 'subsample': 0.7546767104329102}. Best is trial 30 with value: 0.587959924306742.\u001b[0m\n"
     ]
    },
    {
     "name": "stdout",
     "output_type": "stream",
     "text": [
      "\n",
      "********************************\n",
      "\n"
     ]
    },
    {
     "name": "stderr",
     "output_type": "stream",
     "text": [
      "\u001b[32m[I 2022-04-05 16:32:54,240]\u001b[0m Trial 65 finished with value: 0.584955128407453 and parameters: {'n_estimators': 197, 'max_depth': 3, 'reg_alpha': 5.179313078252614, 'reg_lambda': 0.2909188086238069, 'learning_rate': 0.10345748846587852, 'colsample_bytree': 0.45453652098120884, 'subsample': 0.8077179070024183}. Best is trial 30 with value: 0.587959924306742.\u001b[0m\n"
     ]
    },
    {
     "name": "stdout",
     "output_type": "stream",
     "text": [
      "\n",
      "********************************\n",
      "\n"
     ]
    },
    {
     "name": "stderr",
     "output_type": "stream",
     "text": [
      "\u001b[32m[I 2022-04-05 16:32:54,997]\u001b[0m Trial 66 finished with value: 0.5839421147969294 and parameters: {'n_estimators': 159, 'max_depth': 3, 'reg_alpha': 5.3127095700693925, 'reg_lambda': 1.8174528011957052, 'learning_rate': 0.1176548954006027, 'colsample_bytree': 0.45203739133743404, 'subsample': 0.7441207975063178}. Best is trial 30 with value: 0.587959924306742.\u001b[0m\n"
     ]
    },
    {
     "name": "stdout",
     "output_type": "stream",
     "text": [
      "\n",
      "********************************\n",
      "\n"
     ]
    },
    {
     "name": "stderr",
     "output_type": "stream",
     "text": [
      "\u001b[32m[I 2022-04-05 16:32:55,733]\u001b[0m Trial 67 finished with value: 0.5775677980961754 and parameters: {'n_estimators': 141, 'max_depth': 3, 'reg_alpha': 5.6660619087901125, 'reg_lambda': 1.6013131498648145, 'learning_rate': 0.15266024728406952, 'colsample_bytree': 0.5451773783870446, 'subsample': 0.8438139920814962}. Best is trial 30 with value: 0.587959924306742.\u001b[0m\n"
     ]
    },
    {
     "name": "stdout",
     "output_type": "stream",
     "text": [
      "\n",
      "********************************\n",
      "\n"
     ]
    },
    {
     "name": "stderr",
     "output_type": "stream",
     "text": [
      "\u001b[32m[I 2022-04-05 16:32:56,493]\u001b[0m Trial 68 finished with value: 0.580802155634558 and parameters: {'n_estimators': 89, 'max_depth': 4, 'reg_alpha': 5.163658473278709, 'reg_lambda': 0.0016915324007093502, 'learning_rate': 0.10678895039243741, 'colsample_bytree': 0.7344448934840077, 'subsample': 0.8116366580214166}. Best is trial 30 with value: 0.587959924306742.\u001b[0m\n"
     ]
    },
    {
     "name": "stdout",
     "output_type": "stream",
     "text": [
      "\n",
      "********************************\n",
      "\n"
     ]
    },
    {
     "name": "stderr",
     "output_type": "stream",
     "text": [
      "\u001b[32m[I 2022-04-05 16:32:58,052]\u001b[0m Trial 69 finished with value: 0.5788035706682693 and parameters: {'n_estimators': 204, 'max_depth': 5, 'reg_alpha': 2.2777735595968966, 'reg_lambda': 0.2936323796838126, 'learning_rate': 0.054722217109422926, 'colsample_bytree': 0.5791284271941349, 'subsample': 0.5716471125301195}. Best is trial 30 with value: 0.587959924306742.\u001b[0m\n"
     ]
    },
    {
     "name": "stdout",
     "output_type": "stream",
     "text": [
      "\n",
      "********************************\n",
      "\n"
     ]
    },
    {
     "name": "stderr",
     "output_type": "stream",
     "text": [
      "\u001b[32m[I 2022-04-05 16:32:58,832]\u001b[0m Trial 70 finished with value: 0.5826047955412091 and parameters: {'n_estimators': 119, 'max_depth': 3, 'reg_alpha': 5.456073115108851, 'reg_lambda': 0.24043333315847815, 'learning_rate': 0.09582369630691814, 'colsample_bytree': 0.8196935728829586, 'subsample': 0.6222759117004204}. Best is trial 30 with value: 0.587959924306742.\u001b[0m\n"
     ]
    },
    {
     "name": "stdout",
     "output_type": "stream",
     "text": [
      "\n",
      "********************************\n",
      "\n"
     ]
    },
    {
     "name": "stderr",
     "output_type": "stream",
     "text": [
      "\u001b[32m[I 2022-04-05 16:33:00,062]\u001b[0m Trial 71 finished with value: 0.5792427755964429 and parameters: {'n_estimators': 222, 'max_depth': 3, 'reg_alpha': 4.821194589879193, 'reg_lambda': 0.42360991129164766, 'learning_rate': 0.0837090263867527, 'colsample_bytree': 0.47369463110521504, 'subsample': 0.8170454683822025}. Best is trial 30 with value: 0.587959924306742.\u001b[0m\n"
     ]
    },
    {
     "name": "stdout",
     "output_type": "stream",
     "text": [
      "\n",
      "********************************\n",
      "\n"
     ]
    },
    {
     "name": "stderr",
     "output_type": "stream",
     "text": [
      "\u001b[32m[I 2022-04-05 16:33:01,227]\u001b[0m Trial 72 finished with value: 0.5857848726676887 and parameters: {'n_estimators': 185, 'max_depth': 3, 'reg_alpha': 4.953457346451982, 'reg_lambda': 0.49269124216684096, 'learning_rate': 0.07088216797562102, 'colsample_bytree': 0.5206478635097346, 'subsample': 0.772951676158792}. Best is trial 30 with value: 0.587959924306742.\u001b[0m\n"
     ]
    },
    {
     "name": "stdout",
     "output_type": "stream",
     "text": [
      "\n",
      "********************************\n",
      "\n"
     ]
    },
    {
     "name": "stderr",
     "output_type": "stream",
     "text": [
      "\u001b[32m[I 2022-04-05 16:33:02,084]\u001b[0m Trial 73 finished with value: 0.5829029029029029 and parameters: {'n_estimators': 175, 'max_depth': 3, 'reg_alpha': 5.782762042725993, 'reg_lambda': 0.6336550054865485, 'learning_rate': 0.0634655626313271, 'colsample_bytree': 0.5143729780618965, 'subsample': 0.7825956022970579}. Best is trial 30 with value: 0.587959924306742.\u001b[0m\n"
     ]
    },
    {
     "name": "stdout",
     "output_type": "stream",
     "text": [
      "\n",
      "********************************\n",
      "\n"
     ]
    },
    {
     "name": "stderr",
     "output_type": "stream",
     "text": [
      "\u001b[32m[I 2022-04-05 16:33:03,113]\u001b[0m Trial 74 finished with value: 0.5827956747397377 and parameters: {'n_estimators': 162, 'max_depth': 3, 'reg_alpha': 5.041306041840401, 'reg_lambda': 0.3405348032139133, 'learning_rate': 0.05052629895774122, 'colsample_bytree': 0.7721304156079905, 'subsample': 0.7281582321936807}. Best is trial 30 with value: 0.587959924306742.\u001b[0m\n"
     ]
    },
    {
     "name": "stdout",
     "output_type": "stream",
     "text": [
      "\n",
      "********************************\n",
      "\n"
     ]
    },
    {
     "name": "stderr",
     "output_type": "stream",
     "text": [
      "\u001b[32m[I 2022-04-05 16:33:04,069]\u001b[0m Trial 75 finished with value: 0.5795466782762934 and parameters: {'n_estimators': 191, 'max_depth': 3, 'reg_alpha': 4.48430205879394, 'reg_lambda': 0.4954990169230259, 'learning_rate': 0.10503446154766596, 'colsample_bytree': 0.44003499009676367, 'subsample': 0.7652058093743896}. Best is trial 30 with value: 0.587959924306742.\u001b[0m\n"
     ]
    },
    {
     "name": "stdout",
     "output_type": "stream",
     "text": [
      "\n",
      "********************************\n",
      "\n"
     ]
    },
    {
     "name": "stderr",
     "output_type": "stream",
     "text": [
      "\u001b[32m[I 2022-04-05 16:33:05,327]\u001b[0m Trial 76 finished with value: 0.5805767941456611 and parameters: {'n_estimators': 267, 'max_depth': 3, 'reg_alpha': 3.869360133501178, 'reg_lambda': 0.15377365909319354, 'learning_rate': 0.07130622356943475, 'colsample_bytree': 0.5438726389901248, 'subsample': 0.7815610072944684}. Best is trial 30 with value: 0.587959924306742.\u001b[0m\n"
     ]
    },
    {
     "name": "stdout",
     "output_type": "stream",
     "text": [
      "\n",
      "********************************\n",
      "\n"
     ]
    },
    {
     "name": "stderr",
     "output_type": "stream",
     "text": [
      "\u001b[32m[I 2022-04-05 16:33:06,170]\u001b[0m Trial 77 finished with value: 0.5734031055374255 and parameters: {'n_estimators': 181, 'max_depth': 3, 'reg_alpha': 0.7229376056119796, 'reg_lambda': 1.986708286524773, 'learning_rate': 0.1325088378351332, 'colsample_bytree': 0.5241488497737288, 'subsample': 0.7031445516184379}. Best is trial 30 with value: 0.587959924306742.\u001b[0m\n"
     ]
    },
    {
     "name": "stdout",
     "output_type": "stream",
     "text": [
      "\n",
      "********************************\n",
      "\n"
     ]
    },
    {
     "name": "stderr",
     "output_type": "stream",
     "text": [
      "\u001b[32m[I 2022-04-05 16:33:06,538]\u001b[0m Trial 78 finished with value: 0.5735793571142517 and parameters: {'n_estimators': 58, 'max_depth': 3, 'reg_alpha': 4.086348819407117, 'reg_lambda': 1.4571967599899556, 'learning_rate': 0.09396236746469229, 'colsample_bytree': 0.4911756630582951, 'subsample': 0.7512938925300309}. Best is trial 30 with value: 0.587959924306742.\u001b[0m\n"
     ]
    },
    {
     "name": "stdout",
     "output_type": "stream",
     "text": [
      "\n",
      "********************************\n",
      "\n"
     ]
    },
    {
     "name": "stderr",
     "output_type": "stream",
     "text": [
      "\u001b[32m[I 2022-04-05 16:33:07,962]\u001b[0m Trial 79 finished with value: 0.5620260944396608 and parameters: {'n_estimators': 250, 'max_depth': 4, 'reg_alpha': 4.728613545118068, 'reg_lambda': 0.7755115877726326, 'learning_rate': 0.25501403970513414, 'colsample_bytree': 0.6825631981611137, 'subsample': 0.8033432987366984}. Best is trial 30 with value: 0.587959924306742.\u001b[0m\n"
     ]
    },
    {
     "name": "stdout",
     "output_type": "stream",
     "text": [
      "\n",
      "********************************\n",
      "\n"
     ]
    },
    {
     "name": "stderr",
     "output_type": "stream",
     "text": [
      "\u001b[32m[I 2022-04-05 16:33:08,277]\u001b[0m Trial 80 finished with value: 0.5829556949917301 and parameters: {'n_estimators': 32, 'max_depth': 3, 'reg_alpha': 3.6505431656941436, 'reg_lambda': 0.9747234081293357, 'learning_rate': 0.1673098321138375, 'colsample_bytree': 0.8424382233082274, 'subsample': 0.7209467690915071}. Best is trial 30 with value: 0.587959924306742.\u001b[0m\n"
     ]
    },
    {
     "name": "stdout",
     "output_type": "stream",
     "text": [
      "\n",
      "********************************\n",
      "\n"
     ]
    },
    {
     "name": "stderr",
     "output_type": "stream",
     "text": [
      "\u001b[32m[I 2022-04-05 16:33:09,271]\u001b[0m Trial 81 finished with value: 0.5814756715729069 and parameters: {'n_estimators': 229, 'max_depth': 3, 'reg_alpha': 5.34477310893539, 'reg_lambda': 0.5474271682349138, 'learning_rate': 0.07963954652743924, 'colsample_bytree': 0.45979252011625654, 'subsample': 0.8257458177102023}. Best is trial 30 with value: 0.587959924306742.\u001b[0m\n"
     ]
    },
    {
     "name": "stdout",
     "output_type": "stream",
     "text": [
      "\n",
      "********************************\n",
      "\n"
     ]
    },
    {
     "name": "stderr",
     "output_type": "stream",
     "text": [
      "\u001b[32m[I 2022-04-05 16:33:10,185]\u001b[0m Trial 82 finished with value: 0.5858085962720327 and parameters: {'n_estimators': 196, 'max_depth': 3, 'reg_alpha': 4.98275194046563, 'reg_lambda': 1.064518972546391, 'learning_rate': 0.0764675709567382, 'colsample_bytree': 0.4017347005032286, 'subsample': 0.7979935807090964}. Best is trial 30 with value: 0.587959924306742.\u001b[0m\n"
     ]
    },
    {
     "name": "stdout",
     "output_type": "stream",
     "text": [
      "\n",
      "********************************\n",
      "\n"
     ]
    },
    {
     "name": "stderr",
     "output_type": "stream",
     "text": [
      "\u001b[32m[I 2022-04-05 16:33:11,048]\u001b[0m Trial 83 finished with value: 0.5747373460945032 and parameters: {'n_estimators': 200, 'max_depth': 3, 'reg_alpha': 5.081032627905831, 'reg_lambda': 1.0737332843485756, 'learning_rate': 0.2199176747479955, 'colsample_bytree': 0.4008082711860182, 'subsample': 0.7939662674572239}. Best is trial 30 with value: 0.587959924306742.\u001b[0m\n"
     ]
    },
    {
     "name": "stdout",
     "output_type": "stream",
     "text": [
      "\n",
      "********************************\n",
      "\n"
     ]
    },
    {
     "name": "stderr",
     "output_type": "stream",
     "text": [
      "\u001b[32m[I 2022-04-05 16:33:11,691]\u001b[0m Trial 84 finished with value: 0.5779283000326202 and parameters: {'n_estimators': 132, 'max_depth': 3, 'reg_alpha': 4.575804364411398, 'reg_lambda': 0.08062410982881046, 'learning_rate': 0.08880790389967766, 'colsample_bytree': 0.4343948722854019, 'subsample': 0.7732700305752164}. Best is trial 30 with value: 0.587959924306742.\u001b[0m\n"
     ]
    },
    {
     "name": "stdout",
     "output_type": "stream",
     "text": [
      "\n",
      "********************************\n",
      "\n"
     ]
    },
    {
     "name": "stderr",
     "output_type": "stream",
     "text": [
      "\u001b[32m[I 2022-04-05 16:33:12,132]\u001b[0m Trial 85 finished with value: 0.5682260648440202 and parameters: {'n_estimators': 81, 'max_depth': 3, 'reg_alpha': 5.7657092389267115, 'reg_lambda': 1.20343281122752, 'learning_rate': 0.06486853546213756, 'colsample_bytree': 0.41629971382684644, 'subsample': 0.7383070730520779}. Best is trial 30 with value: 0.587959924306742.\u001b[0m\n"
     ]
    },
    {
     "name": "stdout",
     "output_type": "stream",
     "text": [
      "\n",
      "********************************\n",
      "\n"
     ]
    },
    {
     "name": "stderr",
     "output_type": "stream",
     "text": [
      "\u001b[32m[I 2022-04-05 16:33:12,819]\u001b[0m Trial 86 finished with value: 0.5779250483360072 and parameters: {'n_estimators': 148, 'max_depth': 3, 'reg_alpha': 5.417975449034571, 'reg_lambda': 0.93698749784184, 'learning_rate': 0.07532315290560967, 'colsample_bytree': 0.5031334602365476, 'subsample': 0.8464939959123611}. Best is trial 30 with value: 0.587959924306742.\u001b[0m\n"
     ]
    },
    {
     "name": "stdout",
     "output_type": "stream",
     "text": [
      "\n",
      "********************************\n",
      "\n"
     ]
    },
    {
     "name": "stderr",
     "output_type": "stream",
     "text": [
      "\u001b[32m[I 2022-04-05 16:33:13,388]\u001b[0m Trial 87 finished with value: 0.5804825442944144 and parameters: {'n_estimators': 106, 'max_depth': 3, 'reg_alpha': 4.234070069267067, 'reg_lambda': 0.2745492137404286, 'learning_rate': 0.06828124456102261, 'colsample_bytree': 0.5561815370523322, 'subsample': 0.6523339876297725}. Best is trial 30 with value: 0.587959924306742.\u001b[0m\n"
     ]
    },
    {
     "name": "stdout",
     "output_type": "stream",
     "text": [
      "\n",
      "********************************\n",
      "\n"
     ]
    },
    {
     "name": "stderr",
     "output_type": "stream",
     "text": [
      "\u001b[32m[I 2022-04-05 16:33:14,917]\u001b[0m Trial 88 finished with value: 0.5813833184015827 and parameters: {'n_estimators': 412, 'max_depth': 3, 'reg_alpha': 5.192588374367485, 'reg_lambda': 1.3121504601131713, 'learning_rate': 0.0616592397777068, 'colsample_bytree': 0.48291233510360154, 'subsample': 0.8603509725306455}. Best is trial 30 with value: 0.587959924306742.\u001b[0m\n"
     ]
    },
    {
     "name": "stdout",
     "output_type": "stream",
     "text": [
      "\n",
      "********************************\n",
      "\n"
     ]
    },
    {
     "name": "stderr",
     "output_type": "stream",
     "text": [
      "\u001b[32m[I 2022-04-05 16:33:15,736]\u001b[0m Trial 89 finished with value: 0.5725615299099975 and parameters: {'n_estimators': 167, 'max_depth': 3, 'reg_alpha': 4.88627495218768, 'reg_lambda': 1.0430186678183762, 'learning_rate': 0.18926224025257307, 'colsample_bytree': 0.6370161043707508, 'subsample': 0.8009609031973218}. Best is trial 30 with value: 0.587959924306742.\u001b[0m\n"
     ]
    },
    {
     "name": "stdout",
     "output_type": "stream",
     "text": [
      "\n",
      "********************************\n",
      "\n"
     ]
    },
    {
     "name": "stderr",
     "output_type": "stream",
     "text": [
      "\u001b[32m[I 2022-04-05 16:33:16,720]\u001b[0m Trial 90 finished with value: 0.5782836047851099 and parameters: {'n_estimators': 186, 'max_depth': 3, 'reg_alpha': 0.029632153208280165, 'reg_lambda': 0.3854348523247225, 'learning_rate': 0.054194164221312506, 'colsample_bytree': 0.6089076268467063, 'subsample': 0.7779501834231781}. Best is trial 30 with value: 0.587959924306742.\u001b[0m\n"
     ]
    },
    {
     "name": "stdout",
     "output_type": "stream",
     "text": [
      "\n",
      "********************************\n",
      "\n"
     ]
    },
    {
     "name": "stderr",
     "output_type": "stream",
     "text": [
      "\u001b[32m[I 2022-04-05 16:33:17,627]\u001b[0m Trial 91 finished with value: 0.581962913109881 and parameters: {'n_estimators': 214, 'max_depth': 3, 'reg_alpha': 4.975318392091738, 'reg_lambda': 0.45969079167969057, 'learning_rate': 0.07648609714166424, 'colsample_bytree': 0.4662776890890899, 'subsample': 0.8281045378785415}. Best is trial 30 with value: 0.587959924306742.\u001b[0m\n"
     ]
    },
    {
     "name": "stdout",
     "output_type": "stream",
     "text": [
      "\n",
      "********************************\n",
      "\n"
     ]
    },
    {
     "name": "stderr",
     "output_type": "stream",
     "text": [
      "\u001b[32m[I 2022-04-05 16:33:18,473]\u001b[0m Trial 92 finished with value: 0.5837817382317305 and parameters: {'n_estimators': 198, 'max_depth': 3, 'reg_alpha': 4.380866311038279, 'reg_lambda': 0.6892066598872364, 'learning_rate': 0.07963039387979524, 'colsample_bytree': 0.4490247331882607, 'subsample': 0.7899580815117652}. Best is trial 30 with value: 0.587959924306742.\u001b[0m\n"
     ]
    },
    {
     "name": "stdout",
     "output_type": "stream",
     "text": [
      "\n",
      "********************************\n",
      "\n"
     ]
    },
    {
     "name": "stderr",
     "output_type": "stream",
     "text": [
      "\u001b[32m[I 2022-04-05 16:33:19,356]\u001b[0m Trial 93 finished with value: 0.5854037140491969 and parameters: {'n_estimators': 171, 'max_depth': 3, 'reg_alpha': 5.648211053299379, 'reg_lambda': 1.1396677177610803, 'learning_rate': 0.06876878432507151, 'colsample_bytree': 0.5228660698938467, 'subsample': 0.8096767200147346}. Best is trial 30 with value: 0.587959924306742.\u001b[0m\n"
     ]
    },
    {
     "name": "stdout",
     "output_type": "stream",
     "text": [
      "\n",
      "********************************\n",
      "\n"
     ]
    },
    {
     "name": "stderr",
     "output_type": "stream",
     "text": [
      "\u001b[32m[I 2022-04-05 16:33:20,296]\u001b[0m Trial 94 finished with value: 0.5845952488034812 and parameters: {'n_estimators': 171, 'max_depth': 3, 'reg_alpha': 5.876526434398807, 'reg_lambda': 0.9021569413269472, 'learning_rate': 0.070788708437589, 'colsample_bytree': 0.5221778885108248, 'subsample': 0.7530870547960348}. Best is trial 30 with value: 0.587959924306742.\u001b[0m\n"
     ]
    },
    {
     "name": "stdout",
     "output_type": "stream",
     "text": [
      "\n",
      "********************************\n",
      "\n"
     ]
    },
    {
     "name": "stderr",
     "output_type": "stream",
     "text": [
      "\u001b[32m[I 2022-04-05 16:33:20,928]\u001b[0m Trial 95 finished with value: 0.5786979933375499 and parameters: {'n_estimators': 126, 'max_depth': 3, 'reg_alpha': 5.999771512878441, 'reg_lambda': 1.1098746855775126, 'learning_rate': 0.06706390864382192, 'colsample_bytree': 0.5371704818205882, 'subsample': 0.8114385968407085}. Best is trial 30 with value: 0.587959924306742.\u001b[0m\n"
     ]
    },
    {
     "name": "stdout",
     "output_type": "stream",
     "text": [
      "\n",
      "********************************\n",
      "\n"
     ]
    },
    {
     "name": "stderr",
     "output_type": "stream",
     "text": [
      "\u001b[32m[I 2022-04-05 16:33:21,679]\u001b[0m Trial 96 finished with value: 0.5806431562438165 and parameters: {'n_estimators': 146, 'max_depth': 3, 'reg_alpha': 5.622926264492125, 'reg_lambda': 1.173622839600447, 'learning_rate': 0.11416317222845379, 'colsample_bytree': 0.5568415723896185, 'subsample': 0.7647003724756672}. Best is trial 30 with value: 0.587959924306742.\u001b[0m\n"
     ]
    },
    {
     "name": "stdout",
     "output_type": "stream",
     "text": [
      "\n",
      "********************************\n",
      "\n"
     ]
    },
    {
     "name": "stderr",
     "output_type": "stream",
     "text": [
      "\u001b[32m[I 2022-04-05 16:33:22,497]\u001b[0m Trial 97 finished with value: 0.5853136754293594 and parameters: {'n_estimators': 156, 'max_depth': 3, 'reg_alpha': 5.251445081912231, 'reg_lambda': 1.37718983352897, 'learning_rate': 0.0582554028699594, 'colsample_bytree': 0.7198877369888763, 'subsample': 0.8361316427984231}. Best is trial 30 with value: 0.587959924306742.\u001b[0m\n"
     ]
    },
    {
     "name": "stdout",
     "output_type": "stream",
     "text": [
      "\n",
      "********************************\n",
      "\n"
     ]
    },
    {
     "name": "stderr",
     "output_type": "stream",
     "text": [
      "\u001b[32m[I 2022-04-05 16:33:23,301]\u001b[0m Trial 98 finished with value: 0.5832822585440746 and parameters: {'n_estimators': 158, 'max_depth': 3, 'reg_alpha': 5.518847096405285, 'reg_lambda': 1.4077580239602525, 'learning_rate': 0.05736370116604319, 'colsample_bytree': 0.7092482598473616, 'subsample': 0.8744077378444821}. Best is trial 30 with value: 0.587959924306742.\u001b[0m\n"
     ]
    },
    {
     "name": "stdout",
     "output_type": "stream",
     "text": [
      "\n",
      "********************************\n",
      "\n"
     ]
    },
    {
     "name": "stderr",
     "output_type": "stream",
     "text": [
      "\u001b[32m[I 2022-04-05 16:33:23,949]\u001b[0m Trial 99 finished with value: 0.5777645022188714 and parameters: {'n_estimators': 110, 'max_depth': 3, 'reg_alpha': 5.313070339841057, 'reg_lambda': 1.359815464506632, 'learning_rate': 0.05284828144188858, 'colsample_bytree': 0.7933529729589548, 'subsample': 0.8346983505638625}. Best is trial 30 with value: 0.587959924306742.\u001b[0m\n"
     ]
    },
    {
     "name": "stdout",
     "output_type": "stream",
     "text": [
      "\n",
      "++++++++++++++++++++++++++++++++++\n",
      "\n",
      "Study statistics: \n",
      "  Number of finished trials:  100\n",
      "Best trial:\n",
      "  Trial number:  30\n",
      "  Loss (trial value):  0.587959924306742\n",
      "  Params: \n",
      "    n_estimators: 186\n",
      "    max_depth: 3\n",
      "    reg_alpha: 4.264925765715912\n",
      "    reg_lambda: 1.1552136026096238\n",
      "    learning_rate: 0.09544177572663988\n",
      "    colsample_bytree: 0.6383259532921363\n",
      "    subsample: 0.7480050633488734\n"
     ]
    }
   ],
   "source": [
    "main()"
   ]
  },
  {
   "cell_type": "code",
   "execution_count": null,
   "id": "35f73588-f104-4aa2-8cae-ea32923b079e",
   "metadata": {},
   "outputs": [],
   "source": []
  }
 ],
 "metadata": {
  "kernelspec": {
   "display_name": "Python 3 (ipykernel)",
   "language": "python",
   "name": "python3"
  },
  "language_info": {
   "codemirror_mode": {
    "name": "ipython",
    "version": 3
   },
   "file_extension": ".py",
   "mimetype": "text/x-python",
   "name": "python",
   "nbconvert_exporter": "python",
   "pygments_lexer": "ipython3",
   "version": "3.10.4"
  }
 },
 "nbformat": 4,
 "nbformat_minor": 5
}
